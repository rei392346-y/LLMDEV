{
 "cells": [
  {
   "cell_type": "code",
   "execution_count": null,
   "id": "4700d70e",
   "metadata": {},
   "outputs": [
    {
     "name": "stdout",
     "output_type": "stream",
     "text": [
      "平均点: 86.6\n",
      "最高点: 92\n",
      "最低点: 78\n",
      "平均以上の学生数: 3\n"
     ]
    }
   ],
   "source": [
    "# 学生の成績分析ツール\n",
    "\"\"\"\n",
    "・学生の成績をリストとして定義します。以下のソースコードを使用してください。\n",
    "　　grades = [85, 90, 78, 92, 88]\n",
    "・成績のリストを使用して以下を行ってください。\n",
    "　　・成績の平均点を計算します。\n",
    "　　・成績の最高点と最低点を求めます。\n",
    "　　・成績が平均以上の学生数をカウントします。\n",
    "・結果を出力してください。\n",
    "\"\"\"\n",
    "# 学生の成績リスト\n",
    "grades = [85, 90, 78, 92, 88]\n",
    "\n",
    "# 平均点の計算\n",
    "# sum()でリストの合計を、len()でリストの要素数を取得し、割り算する\n",
    "average_grade = sum(grades) / len(grades)\n",
    "\n",
    "# 最高点と最低点の取得\n",
    "# max()で最高点を、min()で最低点を取得する\n",
    "max_grade = max(grades)\n",
    "min_grade = min(grades)\n",
    "\n",
    "# 平均以上の学生数をカウント\n",
    "# リスト内包表記とsum()を使い、条件に合う要素の数を数える\n",
    "# (Trueは1、Falseは0として扱われるため、条件に一致するものの合計がカウントとなる)\n",
    "above_average_count = sum(1 for grade in grades if grade >= average_grade)\n",
    "\n",
    "# 分析結果の出力\n",
    "print(f\"平均点: {average_grade}\")\n",
    "print(f\"最高点: {max_grade}\")\n",
    "print(f\"最低点: {min_grade}\")\n",
    "print(f\"平均以上の学生数: {above_average_count}\")"
   ]
  }
 ],
 "metadata": {
  "kernelspec": {
   "display_name": ".venv",
   "language": "python",
   "name": "python3"
  },
  "language_info": {
   "codemirror_mode": {
    "name": "ipython",
    "version": 3
   },
   "file_extension": ".py",
   "mimetype": "text/x-python",
   "name": "python",
   "nbconvert_exporter": "python",
   "pygments_lexer": "ipython3",
   "version": "3.12.10"
  }
 },
 "nbformat": 4,
 "nbformat_minor": 5
}
