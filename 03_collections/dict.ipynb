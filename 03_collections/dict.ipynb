{
 "cells": [
  {
   "cell_type": "code",
   "execution_count": 2,
   "id": "8ed2a216",
   "metadata": {},
   "outputs": [
    {
     "name": "stdout",
     "output_type": "stream",
     "text": [
      "{'one': 1, 'two': 2, 'three': 3}\n",
      "{'name': 'Alice', 'age': 25, 'is_student': False}\n",
      "{}\n"
     ]
    }
   ],
   "source": [
    "# {} で辞書を定義する\n",
    "\"\"\"\n",
    "辞書を作成する最も一般的な方法は、中括弧 {} を使用する方法です。\n",
    "キーと値のペアは キー: 値 という形式で記述し、各ペアをカンマ（,）で区切ります。\n",
    "\"\"\"\n",
    "# 数値を格納した辞書\n",
    "numbers = {\"one\": 1, \"two\": 2, \"three\": 3}\n",
    "print(numbers)  # {'one': 1, 'two': 2, 'three': 3}\n",
    "\n",
    "# 異なるデータ型の値を格納した辞書\n",
    "person = {\"name\": \"Alice\", \"age\": 25, \"is_student\": False}\n",
    "print(person)  # {'name': 'Alice', 'age': 25, 'is_student': False}\n",
    "\n",
    "# 空の辞書\n",
    "empty_dict = {}\n",
    "print(empty_dict)  # {}"
   ]
  },
  {
   "cell_type": "code",
   "execution_count": null,
   "id": "11f31d68",
   "metadata": {},
   "outputs": [
    {
     "name": "stdout",
     "output_type": "stream",
     "text": [
      "{'name': 'Bob', 'age': 30, 'is_student': True}\n",
      "{'apple': 100, 'banana': 200, 'cherry': 300}\n"
     ]
    }
   ],
   "source": [
    "# dict() 関数を使う\n",
    "# キーワード引数で辞書を作成\n",
    "person = dict(name=\"Bob\", age=30, is_student=True)\n",
    "print(person)  # {'name': 'Bob', 'age': 30, 'is_student': True}\n",
    "\n",
    "# タプルのリストから辞書を作成\n",
    "pairs = [(\"apple\", 100), (\"banana\", 200), (\"cherry\", 300)]\n",
    "fruit_prices = dict(pairs)\n",
    "print(fruit_prices)  # {'apple': 100, 'banana': 200, 'cherry': 300}"
   ]
  },
  {
   "cell_type": "code",
   "execution_count": 4,
   "id": "4a980f1f",
   "metadata": {},
   "outputs": [
    {
     "name": "stdout",
     "output_type": "stream",
     "text": [
      "{'key1': 0, 'key2': 0, 'key3': 0, 'key4': 0, 'key5': 0}\n"
     ]
    }
   ],
   "source": [
    "# dict.fromkeys() 関数を使う\n",
    "\n",
    "# キーを \"key1\" から \"key5\" として、全ての値を 0 に初期化\n",
    "keys = [\"key1\", \"key2\", \"key3\", \"key4\", \"key5\"]\n",
    "repeated_values_dict = dict.fromkeys(keys, 0)\n",
    "print(repeated_values_dict)"
   ]
  },
  {
   "cell_type": "code",
   "execution_count": 5,
   "id": "a5c17e21",
   "metadata": {},
   "outputs": [
    {
     "name": "stdout",
     "output_type": "stream",
     "text": [
      "100\n",
      "{'apple': 100, 'banana': 250, 'cherry': 300}\n"
     ]
    }
   ],
   "source": [
    "# キーによるアクセス\n",
    "\"\"\"\n",
    "キーを使うことで、辞書内の特定の値にアクセスできます。\n",
    "辞書はミュータブル（変更可能）なため、値の更新も可能です。\n",
    "\"\"\"\n",
    "fruit_prices = {\"apple\": 100, \"banana\": 200, \"cherry\": 300}\n",
    "\n",
    "# キー \"apple\" の値にアクセス\n",
    "print(fruit_prices[\"apple\"])  # 100\n",
    "\n",
    "# キー \"banana\" の値を 250 に変更\n",
    "fruit_prices[\"banana\"] = 250\n",
    "print(fruit_prices)  # {'apple': 100, 'banana': 250, 'cherry': 300}"
   ]
  },
  {
   "cell_type": "code",
   "execution_count": 6,
   "id": "9f4b1ddf",
   "metadata": {},
   "outputs": [
    {
     "name": "stdout",
     "output_type": "stream",
     "text": [
      "{'apple': 100, 'banana': 200, 'grape': 400}\n",
      "{'apple': 100, 'banana': 180, 'grape': 400}\n"
     ]
    }
   ],
   "source": [
    "# 要素の追加・変更\n",
    "\"\"\"\n",
    "辞書に新しい要素を追加するか、既存のキーの値を変更する方法です。\n",
    "\"\"\"\n",
    "fruit_prices = {\"apple\": 100, \"banana\": 200}\n",
    "\n",
    "# 新しいキー \"grape\" と値を追加\n",
    "fruit_prices[\"grape\"] = 400\n",
    "print(fruit_prices)  # {'apple': 100, 'banana': 200, 'grape': 400}\n",
    "\n",
    "# 既存のキー \"banana\" の値を変更\n",
    "fruit_prices[\"banana\"] = 180\n",
    "print(fruit_prices)  # {'apple': 100, 'banana': 180, 'grape': 400}"
   ]
  },
  {
   "cell_type": "code",
   "execution_count": 7,
   "id": "f88ce4ee",
   "metadata": {},
   "outputs": [
    {
     "name": "stdout",
     "output_type": "stream",
     "text": [
      "{'apple': 100, 'cherry': 300}\n",
      "200\n",
      "{'apple': 100}\n",
      "{}\n"
     ]
    }
   ],
   "source": [
    "# 要素の削除\n",
    "\"\"\"\n",
    "辞書から要素を削除するには、以下のような方法があります。\n",
    "\n",
    "pop() メソッド：指定したキーの要素を削除して、その値を返します。\n",
    "del キーワード：指定したキーの要素を削除します。\n",
    "clear() メソッド：すべての要素を削除します（辞書を空にします）。\n",
    "\"\"\"\n",
    "fruit_prices = {\"apple\": 100, \"banana\": 200, \"cherry\": 300}\n",
    "\n",
    "# 指定キーの要素を削除\n",
    "del_price = fruit_prices.pop(\"banana\")\n",
    "print(fruit_prices)  # {'apple': 100, 'cherry': 300}\n",
    "print(del_price)  # 200\n",
    "\n",
    "# 指定キーの要素を del キーワードで削除\n",
    "del fruit_prices[\"cherry\"]\n",
    "print(fruit_prices)  # {'apple': 100}\n",
    "\n",
    "# 辞書を空にする\n",
    "fruit_prices.clear()\n",
    "print(fruit_prices)  # {}"
   ]
  },
  {
   "cell_type": "code",
   "execution_count": 8,
   "id": "6560e04b",
   "metadata": {},
   "outputs": [
    {
     "name": "stdout",
     "output_type": "stream",
     "text": [
      "dict_keys(['apple', 'banana', 'cherry'])\n",
      "dict_values([100, 200, 300])\n",
      "dict_items([('apple', 100), ('banana', 200), ('cherry', 300)])\n"
     ]
    }
   ],
   "source": [
    "# 辞書のキーと値の取得\n",
    "\"\"\"\n",
    "辞書にはキーや値を取得する便利なメソッドが用意されています。\n",
    "\n",
    "keys() メソッド：辞書のすべてのキーを取得します。\n",
    "values() メソッド：辞書のすべての値を取得します。\n",
    "items() メソッド：キーと値のペアをタプルとしてまとめたビューを取得します。\n",
    "\"\"\"\n",
    "fruit_prices = {\"apple\": 100, \"banana\": 200, \"cherry\": 300}\n",
    "\n",
    "# キーのリストを取得\n",
    "keys = fruit_prices.keys()\n",
    "print(keys)  # dict_keys(['apple', 'banana', 'cherry'])\n",
    "\n",
    "# 値のリストを取得\n",
    "values = fruit_prices.values()\n",
    "print(values)  # dict_values([100, 200, 300])\n",
    "\n",
    "# キーと値のペアを取得\n",
    "items = fruit_prices.items()\n",
    "print(items)  # dict_items([('apple', 100), ('banana', 200), ('cherry', 300)])\n"
   ]
  },
  {
   "cell_type": "code",
   "execution_count": 9,
   "id": "2cca90d2",
   "metadata": {},
   "outputs": [
    {
     "name": "stdout",
     "output_type": "stream",
     "text": [
      "True\n",
      "False\n"
     ]
    }
   ],
   "source": [
    "# キーの存在確認\n",
    "\"\"\"\n",
    "辞書内に特定のキーが存在するかを確認するには、in キーワードを使用します。\n",
    "存在しないキーを直接参照するとエラーになるため、条件分岐で確認する際に便利です。\n",
    "\"\"\"\n",
    "fruit_prices = {\"apple\": 100, \"banana\": 200, \"cherry\": 300}\n",
    "\n",
    "# \"apple\" が辞書にあるか確認\n",
    "print(\"apple\" in fruit_prices)  # True\n",
    "\n",
    "# \"grape\" が辞書にあるか確認\n",
    "print(\"grape\" in fruit_prices)  # False"
   ]
  }
 ],
 "metadata": {
  "kernelspec": {
   "display_name": ".venv",
   "language": "python",
   "name": "python3"
  },
  "language_info": {
   "codemirror_mode": {
    "name": "ipython",
    "version": 3
   },
   "file_extension": ".py",
   "mimetype": "text/x-python",
   "name": "python",
   "nbconvert_exporter": "python",
   "pygments_lexer": "ipython3",
   "version": "3.12.10"
  }
 },
 "nbformat": 4,
 "nbformat_minor": 5
}
