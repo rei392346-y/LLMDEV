{
 "cells": [
  {
   "cell_type": "code",
   "execution_count": null,
   "id": "8b17be6d",
   "metadata": {},
   "outputs": [
    {
     "name": "stdout",
     "output_type": "stream",
     "text": [
      "{1, 2, 3, 4, 5}\n",
      "{42, (1, 2, 3), 'apple'}\n",
      "set()\n"
     ]
    }
   ],
   "source": [
    "# {} でセットを定義する\n",
    "\"\"\"\n",
    "セットを作成する最も一般的な方法は、中括弧 {} を使用する方法です。各要素をカンマ（,）で区切って記述します。\n",
    "ただし、空のセットを作成する場合は {} ではなく set() を使用します（{} は空の辞書と解釈されるためです）。\n",
    "\n",
    "書式：\n",
    "セットの変数名 = {要素1, 要素2, 要素3, ...}\n",
    "\"\"\"\n",
    "# 数値を格納したセット\n",
    "numbers = {1, 2, 3, 4, 5}\n",
    "print(numbers)  # {1, 2, 3, 4, 5}\n",
    "\n",
    "# 異なるデータ型の値を格納したセット\n",
    "mixed_set = {\"apple\", 42, (1, 2, 3)}\n",
    "print(mixed_set)  # {'apple', 42, (1, 2, 3)}\n",
    "\n",
    "# 空のセット（空の辞書と区別するために set() を使用）\n",
    "empty_set = set()\n",
    "print(empty_set)  # set()"
   ]
  },
  {
   "cell_type": "code",
   "execution_count": 3,
   "id": "de4232cc",
   "metadata": {},
   "outputs": [
    {
     "name": "stdout",
     "output_type": "stream",
     "text": [
      "{1, 2, 3}\n",
      "{'o', 'e', 'h', 'l'}\n"
     ]
    }
   ],
   "source": [
    "# set() 関数を使う\n",
    "\"\"\"\n",
    "set() 関数を使って、リストやタプル、文字列からセットを生成もできます。\n",
    "この方法は、既存のコレクションからユニークな要素のみを抽出したい場合に便利です。\n",
    "\"\"\"\n",
    "# リストからセットを作成\n",
    "numbers_list = [1, 2, 3, 2, 1]\n",
    "unique_numbers = set(numbers_list)\n",
    "print(unique_numbers)  # {1, 2, 3}\n",
    "\n",
    "# 文字列からセットを作成\n",
    "letters = set(\"hello\")\n",
    "print(letters)  # {'h', 'e', 'l', 'o'}"
   ]
  },
  {
   "cell_type": "code",
   "execution_count": 4,
   "id": "f0d54f44",
   "metadata": {},
   "outputs": [
    {
     "name": "stdout",
     "output_type": "stream",
     "text": [
      "{'cherry', 'banana', 'apple'}\n",
      "{'cherry', 'banana', 'apple'}\n"
     ]
    }
   ],
   "source": [
    "# 要素の追加\n",
    "\"\"\"\n",
    "add() メソッドを使ってセットに新しい要素を追加できます。\n",
    "同じ要素がすでにセットに存在する場合、何も起こりません（重複が無視されます）。\n",
    "\"\"\"\n",
    "fruits = {\"apple\", \"banana\"}\n",
    "fruits.add(\"cherry\")\n",
    "print(fruits)  # {'apple', 'banana', 'cherry'}\n",
    "\n",
    "# すでに存在する要素を追加してもセットには影響なし\n",
    "fruits.add(\"apple\")\n",
    "print(fruits)  # {'apple', 'banana', 'cherry'}"
   ]
  },
  {
   "cell_type": "code",
   "execution_count": 6,
   "id": "57d225c3",
   "metadata": {},
   "outputs": [
    {
     "name": "stdout",
     "output_type": "stream",
     "text": [
      "{'cherry', 'apple'}\n",
      "{'cherry', 'apple'}\n",
      "{'apple'}\n",
      "cherry\n",
      "set()\n"
     ]
    }
   ],
   "source": [
    "# 要素の削除\n",
    "\"\"\"\n",
    "セットから要素を削除するには、以下の方法があります。\n",
    "\n",
    "・remove() メソッド：指定した要素を削除しますが、要素が存在しない場合はエラーになります。\n",
    "・discard() メソッド：指定した要素を削除しますが、存在しない場合はエラーになりません。\n",
    "・pop() メソッド：任意の要素を削除して返します（順序は保証されないため、削除される要素は不定です）。\n",
    "・clear() メソッド：すべての要素を削除します（セットを空にします）。\n",
    "\"\"\"\n",
    "fruits = {\"apple\", \"banana\", \"cherry\"}\n",
    "\n",
    "# 特定の要素を削除\n",
    "fruits.remove(\"banana\")\n",
    "print(fruits)  # {'apple', 'cherry'}\n",
    "\n",
    "# 存在しない要素の削除\n",
    "fruits.discard(\"orange\")  # エラーにならない\n",
    "print(fruits)  # {'apple', 'cherry'}\n",
    "\n",
    "# 任意の要素を削除\n",
    "removed_item = fruits.pop()\n",
    "print(fruits)  # {'cherry'}（'apple' が削除されたと仮定）\n",
    "print(removed_item)  # apple\n",
    "\n",
    "# セットを空にする\n",
    "fruits.clear()\n",
    "print(fruits)  # set()\n"
   ]
  },
  {
   "cell_type": "code",
   "execution_count": 7,
   "id": "b2bf9f61",
   "metadata": {},
   "outputs": [
    {
     "name": "stdout",
     "output_type": "stream",
     "text": [
      "{1, 2, 3, 4, 5, 6}\n",
      "{3, 4}\n",
      "{1, 2}\n",
      "{1, 2, 5, 6}\n"
     ]
    }
   ],
   "source": [
    "# 集合演算（和・積・差・対称差）\n",
    "\"\"\"\n",
    "セットでは、他のセットとの間で和集合、積集合、差集合、対称差集合といった集合演算が可能です。\n",
    "\n",
    "・和集合（union() または |）：2つのセットの要素すべてを含む集合\n",
    "・積集合（intersection() または &）：共通する要素のみを含む集合\n",
    "・差集合（difference() または -）：片方にのみ存在する要素\n",
    "・対称差集合（symmetric_difference() または ^）：一方にのみ存在し、もう一方には存在しない要素\n",
    "\"\"\"\n",
    "a = {1, 2, 3, 4}\n",
    "b = {3, 4, 5, 6}\n",
    "\n",
    "# 和集合\n",
    "print(a | b)  # {1, 2, 3, 4, 5, 6}\n",
    "\n",
    "# 積集合\n",
    "print(a & b)  # {3, 4}\n",
    "\n",
    "# 差集合\n",
    "print(a - b)  # {1, 2}\n",
    "\n",
    "# 対称差集合\n",
    "print(a ^ b)  # {1, 2, 5, 6}"
   ]
  },
  {
   "cell_type": "code",
   "execution_count": 8,
   "id": "096a1af0",
   "metadata": {},
   "outputs": [
    {
     "name": "stdout",
     "output_type": "stream",
     "text": [
      "True\n",
      "False\n"
     ]
    }
   ],
   "source": [
    "#要素の存在確認\n",
    "\"\"\"\n",
    "セット内に特定の要素が存在するかを確認するには、in キーワードを使用します。\n",
    "\"\"\"\n",
    "fruits = {\"apple\", \"banana\", \"cherry\"}\n",
    "\n",
    "# \"apple\" がセットにあるか確認\n",
    "print(\"apple\" in fruits)  # True\n",
    "\n",
    "# \"grape\" がセットにあるか確認\n",
    "print(\"grape\" in fruits)  # False"
   ]
  }
 ],
 "metadata": {
  "kernelspec": {
   "display_name": ".venv",
   "language": "python",
   "name": "python3"
  },
  "language_info": {
   "codemirror_mode": {
    "name": "ipython",
    "version": 3
   },
   "file_extension": ".py",
   "mimetype": "text/x-python",
   "name": "python",
   "nbconvert_exporter": "python",
   "pygments_lexer": "ipython3",
   "version": "3.12.10"
  }
 },
 "nbformat": 4,
 "nbformat_minor": 5
}
