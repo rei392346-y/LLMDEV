{
 "cells": [
  {
   "cell_type": "code",
   "execution_count": 1,
   "id": "4e7fb7c4",
   "metadata": {},
   "outputs": [],
   "source": [
    "# テキストファイルへの書き込み\n",
    "\"\"\"\n",
    "テキストファイルにデータを書き込むには、ファイルを書き込みモード w で開きます。\n",
    "既存の内容を保持しつつ追記したい場合には、「追記」モード（\"a\"）を使用します。\n",
    "\"\"\"\n",
    "\n",
    "## 文字列の書き込み\n",
    "\"\"\"\n",
    "ファイルに文字列を書き込むには、write() メソッドを使います。\n",
    "\"\"\"\n",
    "with open(\"sample.txt\", \"w\") as file:\n",
    "    file.write(\"Hello, World!\")"
   ]
  },
  {
   "cell_type": "code",
   "execution_count": 2,
   "id": "514b3375",
   "metadata": {},
   "outputs": [],
   "source": [
    "# 複数行の書き込み\n",
    "lines = [\"First line\\n\", \"Second line\\n\", \"Third line\\n\"]\n",
    "with open(\"sample.txt\", \"w\") as file:\n",
    "    file.writelines(lines)"
   ]
  },
  {
   "cell_type": "code",
   "execution_count": 3,
   "id": "fb4ecd5a",
   "metadata": {},
   "outputs": [
    {
     "name": "stdout",
     "output_type": "stream",
     "text": [
      "First line\n",
      "Second line\n",
      "Third line\n",
      "\n"
     ]
    }
   ],
   "source": [
    "# テキストファイルの読み込み\n",
    "\"\"\"\n",
    "テキストファイルからデータを読み込むには、ファイルを読み込みモード r で開きます。\n",
    "\"\"\"\n",
    "## 全体の読み込み\n",
    "with open(\"sample.txt\", \"r\") as file:\n",
    "    data = file.read()\n",
    "    print(data)"
   ]
  },
  {
   "cell_type": "code",
   "execution_count": 5,
   "id": "ab309bc5",
   "metadata": {},
   "outputs": [
    {
     "name": "stdout",
     "output_type": "stream",
     "text": [
      "0:First line\n",
      "1:Second line\n",
      "2:Third line\n"
     ]
    }
   ],
   "source": [
    "# 1行ずつ読み込み\n",
    "\"\"\"\n",
    "ファイルを1行ずつ読み込む場合は、readlines() メソッドを使用します。このメソッドは、ファイル全体を一度に読み込み、各行を要素とするリストを返します。\n",
    "\"\"\"\n",
    "with open(\"sample.txt\", \"r\") as file:\n",
    "    lines = file.readlines()\n",
    "    for index, line in enumerate(lines):\n",
    "        print(f\"{index}:{line.strip()}\")"
   ]
  },
  {
   "cell_type": "code",
   "execution_count": 6,
   "id": "19a05a3d",
   "metadata": {},
   "outputs": [
    {
     "name": "stdout",
     "output_type": "stream",
     "text": [
      "First line\n",
      "Second line\n",
      "Third line\n"
     ]
    }
   ],
   "source": [
    "# 逐次行の読み込み\n",
    "\"\"\"\n",
    "大きなファイルを扱う場合や、行ごとに処理を行いたい場合は、for ループを使って1行ずつ読み込む方法が便利です。\n",
    "\"\"\"\n",
    "with open(\"sample.txt\", \"r\") as file:\n",
    "    for line in file:\n",
    "        print(line.strip())"
   ]
  },
  {
   "cell_type": "code",
   "execution_count": 7,
   "id": "df1c3519",
   "metadata": {},
   "outputs": [],
   "source": [
    "# CSVファイルへの書き込み\n",
    "\"\"\"\n",
    "CSVファイルにデータを書き込むには、csv.writer や csv.DictWriter を使います。\n",
    "\"\"\"\n",
    "## リストをCSVファイルに書き込む\n",
    "\"\"\"\n",
    "リスト形式のデータをCSVファイルに書き込むには csv.writer を使用します。\n",
    "\"\"\"\n",
    "import csv\n",
    "\n",
    "data = [\n",
    "    [\"name\", \"age\", \"city\"],\n",
    "    [\"Alice\", \"30\", \"New York\"],\n",
    "    [\"Bob\", \"25\", \"Los Angeles\"],\n",
    "    [\"Charlie\", \"35\", \"Chicago\"]\n",
    "]\n",
    "\n",
    "with open(\"sample1.csv\", mode=\"w\", encoding=\"utf-8\", newline=\"\") as file:\n",
    "    writer = csv.writer(file)\n",
    "    writer.writerows(data)"
   ]
  },
  {
   "cell_type": "code",
   "execution_count": 8,
   "id": "173b8a7f",
   "metadata": {},
   "outputs": [],
   "source": [
    "# 辞書をCSVファイルに書き込む\n",
    "\"\"\"\n",
    "辞書形式のデータをCSVファイルに書き込むには csv.DictWriter を使用します。\n",
    "\"\"\"\n",
    "import csv\n",
    "\n",
    "data = [\n",
    "    {\"name\": \"Alice\", \"age\": \"30\", \"city\": \"New York\"},\n",
    "    {\"name\": \"Bob\", \"age\": \"25\", \"city\": \"Los Angeles\"},\n",
    "    {\"name\": \"Charlie\", \"age\": \"35\", \"city\": \"Chicago\"}\n",
    "]\n",
    "\n",
    "with open(\"sample2.csv\", mode=\"w\", encoding=\"utf-8\", newline=\"\") as file:\n",
    "    fieldnames = [\"name\", \"age\", \"city\"]\n",
    "    writer = csv.DictWriter(file, fieldnames=fieldnames)\n",
    "    \n",
    "    writer.writeheader()  # ヘッダー行を書き込む\n",
    "    writer.writerows(data)"
   ]
  },
  {
   "cell_type": "code",
   "execution_count": 9,
   "id": "261fcdff",
   "metadata": {},
   "outputs": [
    {
     "name": "stdout",
     "output_type": "stream",
     "text": [
      "['name', 'age', 'city']\n",
      "['Alice', '30', 'New York']\n",
      "['Bob', '25', 'Los Angeles']\n",
      "['Charlie', '35', 'Chicago']\n"
     ]
    }
   ],
   "source": [
    "# CSVファイルの読み込み\n",
    "\"\"\"\n",
    "CSVファイルを読み込むには、csv.reader や csv.DictReader を使います。\n",
    "\"\"\"\n",
    "## リストにCSVファイルを読み込む\n",
    "\"\"\"\n",
    "リストにCSVファイルを読み込むには csv.reader を使用します。csv.reader を使うと、CSVファイルを行ごとにリスト形式で取得できます。\n",
    "\"\"\"\n",
    "import csv\n",
    "\n",
    "with open(\"sample1.csv\", mode=\"r\", encoding=\"utf-8\") as file:\n",
    "    reader = csv.reader(file)\n",
    "    for row in reader:\n",
    "        print(row)"
   ]
  },
  {
   "cell_type": "code",
   "execution_count": 10,
   "id": "ad517d2f",
   "metadata": {},
   "outputs": [
    {
     "name": "stdout",
     "output_type": "stream",
     "text": [
      "{'name': 'Alice', 'age': '30', 'city': 'New York'}\n",
      "{'name': 'Bob', 'age': '25', 'city': 'Los Angeles'}\n",
      "{'name': 'Charlie', 'age': '35', 'city': 'Chicago'}\n"
     ]
    }
   ],
   "source": [
    "# 辞書にCSVファイルを読み込む\n",
    "\"\"\"\n",
    "辞書にCSVファイルを読み込むには csv.DictReader を使用します。csv.DictReader を使うと、CSVファイルの各行が辞書形式で読み込まれます。これにより、インデックスを使わずに項目名（キー）を指定してデータにアクセスできるため、可読性が向上します。\n",
    "\"\"\"\n",
    "import csv\n",
    "\n",
    "with open(\"sample2.csv\", mode=\"r\", encoding=\"utf-8\") as file:\n",
    "    reader = csv.DictReader(file)\n",
    "    for row in reader:\n",
    "        print(row)"
   ]
  },
  {
   "cell_type": "code",
   "execution_count": 11,
   "id": "11548b99",
   "metadata": {},
   "outputs": [],
   "source": [
    "# JSONファイルへの書き込み\n",
    "\"\"\"\n",
    "Pythonの辞書やリストのデータをJSON形式でファイルに保存するには、json.dump() 関数を使用します。\n",
    "なお、ファイルに保存せず「JSON形式の文字列」に変換する場合は json.dumps() を使用します。\n",
    "\n",
    "以下の例では、辞書型データを data.json というファイルに書き込んでいます。\n",
    "\"\"\"\n",
    "import json\n",
    "\n",
    "data = {\n",
    "    \"name\": \"Alice\",\n",
    "    \"age\": 30,\n",
    "    \"city\": \"New York\",\n",
    "    \"hobbies\": [\"reading\", \"traveling\", \"coding\"]\n",
    "}\n",
    "\n",
    "with open(\"data.json\", mode=\"w\", encoding=\"utf-8\") as file:\n",
    "    json.dump(data, file, indent=4)"
   ]
  },
  {
   "cell_type": "code",
   "execution_count": 12,
   "id": "d3c54d02",
   "metadata": {},
   "outputs": [
    {
     "name": "stdout",
     "output_type": "stream",
     "text": [
      "{'name': 'Alice', 'age': 30, 'city': 'New York', 'hobbies': ['reading', 'traveling', 'coding']}\n",
      "<class 'dict'>\n",
      "Alice\n"
     ]
    }
   ],
   "source": [
    "# JSONファイルの読み込み\n",
    "\"\"\"\n",
    "JSONファイルを読み込んでPythonの辞書型やリスト型として扱うには json.load() を使用します。\n",
    "なお、「JSON形式の文字列」を辞書型やリスト型に変換するには json.loads() を使用します。\n",
    "\"\"\"\n",
    "import json\n",
    "\n",
    "with open(\"data.json\", mode=\"r\", encoding=\"utf-8\") as file:\n",
    "    data = json.load(file)\n",
    "    print(data)\n",
    "    print(type(data)) # <class 'dict'>\n",
    "    print(data[\"name\"]) # Alice"
   ]
  }
 ],
 "metadata": {
  "kernelspec": {
   "display_name": ".venv",
   "language": "python",
   "name": "python3"
  },
  "language_info": {
   "codemirror_mode": {
    "name": "ipython",
    "version": 3
   },
   "file_extension": ".py",
   "mimetype": "text/x-python",
   "name": "python",
   "nbconvert_exporter": "python",
   "pygments_lexer": "ipython3",
   "version": "3.12.10"
  }
 },
 "nbformat": 4,
 "nbformat_minor": 5
}
