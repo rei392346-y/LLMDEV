{
 "cells": [
  {
   "cell_type": "code",
   "execution_count": 4,
   "id": "4e16eb35",
   "metadata": {},
   "outputs": [
    {
     "name": "stdout",
     "output_type": "stream",
     "text": [
      "英単語を入力してください。未入力でEnterキーを押すと終了します。\n",
      "英単語を入力してください：７８９\n",
      "エラー: アルファベットのみで構成される単語を入力してください。\n",
      "英単語を入力してください：＠＠＠\n",
      "エラー: アルファベットのみで構成される単語を入力してください。\n",
      "英単語を入力してください：dog2\n",
      "エラー: アルファベットのみで構成される単語を入力してください。\n",
      "英単語を入力してください：dog\n",
      "英単語を入力してください：cat\n",
      "英単語を入力してください：month\n",
      "英単語を入力してください：fithj\n",
      "英単語を入力してください：\n",
      "未入力でEnterキーを押されました。処理を終了します。\n",
      "入力した英単語：['cat', 'dog', 'fithj', 'month']\n",
      "aが1個ありました\n",
      "cが1個ありました\n",
      "dが1個ありました\n",
      "fが1個ありました\n",
      "gが1個ありました\n",
      "hが2個ありました\n",
      "iが1個ありました\n",
      "jが1個ありました\n",
      "mが1個ありました\n",
      "nが1個ありました\n",
      "oが2個ありました\n",
      "tが3個ありました\n"
     ]
    }
   ],
   "source": [
    "# 入力された英単語を格納するための空のリスト\n",
    "words = []\n",
    "# アルファベットごとの出現回数を格納するための辞書\n",
    "# 'a'から'z'までの各アルファベットをキーとし、初期値を0に設定\n",
    "alphabet_counts = {chr(i): 0 for i in range(ord('a'), ord('z') + 1)}\n",
    "\n",
    "print(\"英単語を入力してください。未入力でEnterキーを押すと終了します。\")\n",
    "\n",
    "# --- 入力ループ ---\n",
    "while True:\n",
    "    # ユーザーからの入力を受け付ける\n",
    "    word = input(\"英単語を入力してください：\")\n",
    "    print(f\"英単語を入力してください：{word}\")\n",
    "\n",
    "    # 入力が空文字列の場合、ループを終了する\n",
    "    if word == \"\":\n",
    "        print(f\"未入力でEnterキーを押されました。処理を終了します。\")\n",
    "        break\n",
    "\n",
    "    # 入力がアルファベットのみで構成されているかチェック\n",
    "    if not word.isalpha():\n",
    "        print(\"エラー: アルファベットのみで構成される単語を入力してください。\")\n",
    "        continue  # ループの先頭に戻る\n",
    "\n",
    "    # 有効な単語をリストに追加\n",
    "    words.append(word)\n",
    "\n",
    "    # 単語内の各アルファベットの出現回数をカウント（大文字小文字を区別しない）\n",
    "    for char in word.lower():\n",
    "        if char in alphabet_counts:\n",
    "            alphabet_counts[char] += 1\n",
    "\n",
    "# --- 結果の出力 ---\n",
    "\n",
    "# 入力された単語リストをアルファベット順にソート\n",
    "words.sort()\n",
    "print(f\"入力した英単語：{words}\")\n",
    "\n",
    "# 各アルファベットの出現回数を出力\n",
    "# sorted()を使って辞書のキー（アルファベット）順に出力する\n",
    "for letter, count in sorted(alphabet_counts.items()):\n",
    "    # 出現回数が1回以上の場合のみ表示\n",
    "    if count > 0:\n",
    "        print(f\"{letter}が{count}個ありました\")"
   ]
  }
 ],
 "metadata": {
  "kernelspec": {
   "display_name": ".venv",
   "language": "python",
   "name": "python3"
  },
  "language_info": {
   "codemirror_mode": {
    "name": "ipython",
    "version": 3
   },
   "file_extension": ".py",
   "mimetype": "text/x-python",
   "name": "python",
   "nbconvert_exporter": "python",
   "pygments_lexer": "ipython3",
   "version": "3.12.10"
  }
 },
 "nbformat": 4,
 "nbformat_minor": 5
}
