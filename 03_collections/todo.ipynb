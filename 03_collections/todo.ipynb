{
 "cells": [
  {
   "cell_type": "code",
   "execution_count": null,
   "id": "690ce1b0",
   "metadata": {},
   "outputs": [
    {
     "name": "stdout",
     "output_type": "stream",
     "text": [
      "【TODOリスト】\n",
      "番号を入力してください[1:追加、2:表示、4:保存と終了]:1-4の数字を入力してください。\n",
      "番号を入力してください[1:追加、2:表示、4:保存と終了]:1-4の数字を入力してください。\n",
      "番号を入力してください[1:追加、2:表示、4:保存と終了]:1-4の数字を入力してください。\n",
      "番号を入力してください[1:追加、2:表示、4:保存と終了]:1-4の数字を入力してください。\n",
      "番号を入力してください[1:追加、2:表示、4:保存と終了]:1-4の数字を入力してください。\n",
      "番号を入力してください[1:追加、2:表示、4:保存と終了]:1-4の数字を入力してください。\n",
      "番号を入力してください[1:追加、2:表示、4:保存と終了]:2:表示\n",
      "番号を入力してください[1:追加、2:表示、4:保存と終了]:1:追加\n",
      "追加するTODO: 課題提出\n",
      "番号を入力してください[1:追加、2:表示、4:保存と終了]:1:追加\n",
      "追加するTODO: テスト実施\n",
      "番号を入力してください[1:追加、2:表示、4:保存と終了]:4:保存と終了\n",
      "TODOリストを保存して終了します。\n"
     ]
    }
   ],
   "source": [
    "# TODOリストを格納するリスト\n",
    "\"\"\"\n",
    "ファイルの読み込み：try ブロック内で、with open(filename, \"r\", encoding=\"utf-8\") as file によって、ファイルを読み込み専用モード（\"r\"）で開いています。\n",
    "todo_list = [line.strip() for line in file] で、ファイルの各行を読み込み、前後の空白を削除して todo_list というリストに格納します。\n",
    "エラーハンドリング：ファイルが存在しない場合（例えば初回起動時など）、FileNotFoundError が発生します。\n",
    "この場合、空のリスト（todo_list = []）を作成し、新しいTODOリストとして扱います。\n",
    "\"\"\"\n",
    "filename = \"todo_list.txt\"\n",
    "try:\n",
    "    # ファイルが存在したら内容を読込\n",
    "    with open(filename, \"r\", encoding=\"utf-8\") as file:\n",
    "        todo_list = [line.strip() for line in file]\n",
    "except FileNotFoundError:\n",
    "    # ファイルが存在しない場合は新しいリストを作成\n",
    "    todo_list = []\n",
    "\n",
    "# メニュー表示\n",
    "print(\"【TODOリスト】\")\n",
    "\n",
    "\"\"\"\n",
    "無限ループ：while True: で無限ループを設定し、ユーザーがプログラムを終了（選択肢4）するまで操作を繰り返します。\n",
    "操作の選択：choice = input(\"\") で、ユーザーに1〜4の操作を選んでもらいます。\n",
    "\"\"\"\n",
    "while True:\n",
    "    print(\"番号を入力してください[1:追加、2:表示、4:保存と終了]:\", end=\"\", flush=True)\n",
    "    choice = input(\"\")\n",
    "\n",
    "    if choice == \"1\":\n",
    "        \"\"\"\n",
    "        TODOの追加：ユーザーが「1」を選択すると、input(\"追加するTODO: \") で新しいTODO項目を入力し、todo_list.append(...) でリストに追加します。\n",
    "        \"\"\"\n",
    "        print(\"1:追加\", flush=True)\n",
    "        add_todo = input(\"追加するTODO: \")\n",
    "        print(\"追加するTODO:\", add_todo, flush=True)\n",
    "        todo_list.append(add_todo)\n",
    "    elif choice == \"2\":\n",
    "        \"\"\"\n",
    "        TODOリストの表示：ユーザーが「2」を選択すると、現在のTODOリストを番号付きで表示します。\n",
    "        enumerate(todo_list) は、リストの各項目に0から順に番号を振って todo に格納し、print(f\"{i}. {todo}\") で番号とともに出力します。\n",
    "        \"\"\"\n",
    "        print(\"2:表示\", flush=True)\n",
    "        for i, todo in enumerate(todo_list):\n",
    "            print(f\"{i}. {todo}\")\n",
    "    elif choice == \"4\":\n",
    "        \"\"\"\n",
    "        終了と保存：ユーザーが「4」を選択すると、with open(filename, \"w\", encoding=\"utf-8\") as file でファイルを書き込み専用モード（\"w\"）で開き、\n",
    "        現在のtodo_list を1行ずつファイルに保存します。\n",
    "        file.writelines(f\"{todo}\\n\" for todo in todo_list) で、TODOリストの各項目に改行を追加してファイルに書き込みます。\n",
    "        プログラム終了：break で無限ループを抜けてプログラムを終了します。\n",
    "        \"\"\"\n",
    "        print(\"4:保存と終了\", flush=True)\n",
    "        with open(filename, \"w\", encoding=\"utf-8\") as file:\n",
    "            file.writelines(f\"{todo}\\n\" for todo in todo_list)\n",
    "        print(\"TODOリストを保存して終了します。\", flush=True)\n",
    "        break\n",
    "    else:\n",
    "        print(\"1-4の数字を入力してください。\", flush=True)"
   ]
  }
 ],
 "metadata": {
  "kernelspec": {
   "display_name": ".venv",
   "language": "python",
   "name": "python3"
  },
  "language_info": {
   "codemirror_mode": {
    "name": "ipython",
    "version": 3
   },
   "file_extension": ".py",
   "mimetype": "text/x-python",
   "name": "python",
   "nbconvert_exporter": "python",
   "pygments_lexer": "ipython3",
   "version": "3.12.10"
  }
 },
 "nbformat": 4,
 "nbformat_minor": 5
}
