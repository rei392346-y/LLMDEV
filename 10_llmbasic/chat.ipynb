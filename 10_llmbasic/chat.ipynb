{
 "cells": [
  {
   "cell_type": "code",
   "execution_count": 6,
   "id": "495a3cd9",
   "metadata": {},
   "outputs": [
    {
     "name": "stdout",
     "output_type": "stream",
     "text": [
      "{'_request_id': 'req_af4ed3172f1c43478890a341284847c3',\n",
      " 'choices': [Choice(finish_reason='stop', index=0, logprobs=None, message=ChatCompletionMessage(content='言語モデルを効果的に活用するためのポイントはいくつかあります。\\n\\n1. **明確な目的設定**: モデルを使用する目的を明確にしておくことが重要です。情報検索、コンテンツ生成、対話システムなど、目的に応じた使い方を考えましょう。\\n\\n2. **プロンプト設計**: モデルに与える入力（プロンプト）の設計が結果に大きく影響します。具体的で明確な指示を与えることで、より望ましい応答が得られます。\\n\\n3. **コンテキストの提供**: モデルは文脈に依存するため、必要な情報や背景をプロンプトに含めることで、より適切な出力が得られやすくなります。\\n\\n4. **結果の評価**: モデルから得た出力を批判的に評価し、必要に応じて修正や再入力を行うことが重要です。モデルの応答は常に正確とは限りません。\\n\\n5. **繰り返しとフィードバック**: モデルを何度も使い、出力を観察しながら学習していくことが効果的です。フィードバックループを構築することで、プロンプトや使用方法を改善できます。\\n\\n6. **倫理的配慮**: 言語モデルには偏見や誤情報が含まれる場合があります。そのため、生成された出力を使用する際には、倫理や責任を考慮する必要があります。\\n\\n7. **最新の情報に注意**: モデルはトレーニングデータに基づいて応答するため、最新の情報や状況については正確でない場合があります。特に情報の正確性が重要な場合には、他の情報源と照らし合わせることが重要です。\\n\\nこれらのポイントを考慮することで、言語モデルをより効果的に利用することができます。', refusal=None, role='assistant', audio=None, function_call=None, tool_calls=None, annotations=[]))],\n",
      " 'created': 1755757567,\n",
      " 'id': 'chatcmpl-C6t2NwuCQcjHSCF0PLQuliVgkQiAz',\n",
      " 'model': 'gpt-4o-mini-2024-07-18',\n",
      " 'object': 'chat.completion',\n",
      " 'service_tier': 'default',\n",
      " 'system_fingerprint': 'fp_560af6e559',\n",
      " 'usage': CompletionUsage(completion_tokens=458, prompt_tokens=18, total_tokens=476, completion_tokens_details=CompletionTokensDetails(accepted_prediction_tokens=0, audio_tokens=0, reasoning_tokens=0, rejected_prediction_tokens=0), prompt_tokens_details=PromptTokensDetails(audio_tokens=0, cached_tokens=0))}\n",
      "言語モデルからの回答:\n",
      "言語モデルを効果的に活用するためのポイントはいくつかあります。\n",
      "\n",
      "1. **明確な目的設定**: モデルを使用する目的を明確にしておくことが重要です。情報検索、コンテンツ生成、対話システムなど、目的に応じた使い方を考えましょう。\n",
      "\n",
      "2. **プロンプト設計**: モデルに与える入力（プロンプト）の設計が結果に大きく影響します。具体的で明確な指示を与えることで、より望ましい応答が得られます。\n",
      "\n",
      "3. **コンテキストの提供**: モデルは文脈に依存するため、必要な情報や背景をプロンプトに含めることで、より適切な出力が得られやすくなります。\n",
      "\n",
      "4. **結果の評価**: モデルから得た出力を批判的に評価し、必要に応じて修正や再入力を行うことが重要です。モデルの応答は常に正確とは限りません。\n",
      "\n",
      "5. **繰り返しとフィードバック**: モデルを何度も使い、出力を観察しながら学習していくことが効果的です。フィードバックループを構築することで、プロンプトや使用方法を改善できます。\n",
      "\n",
      "6. **倫理的配慮**: 言語モデルには偏見や誤情報が含まれる場合があります。そのため、生成された出力を使用する際には、倫理や責任を考慮する必要があります。\n",
      "\n",
      "7. **最新の情報に注意**: モデルはトレーニングデータに基づいて応答するため、最新の情報や状況については正確でない場合があります。特に情報の正確性が重要な場合には、他の情報源と照らし合わせることが重要です。\n",
      "\n",
      "これらのポイントを考慮することで、言語モデルをより効果的に利用することができます。\n"
     ]
    }
   ],
   "source": [
    "# 必要なモジュールをインポート\n",
    "import os\n",
    "from dotenv import load_dotenv\n",
    "from openai import OpenAI\n",
    "from pprint import pprint\n",
    "\n",
    "# 環境変数の取得\n",
    "load_dotenv(\"../.env\")\n",
    "\n",
    "# OpenAI APIクライアントを生成\n",
    "client = OpenAI(api_key=os.environ['API_KEY'])\n",
    "\n",
    "# モデル名\n",
    "MODEL_NAME = \"gpt-4o-mini\"\n",
    "\n",
    "# メッセージの設定\n",
    "message = \"言語モデルを使う上でのポイントは\"\n",
    "\n",
    "# APIへリクエスト\n",
    "response = client.chat.completions.create(\n",
    "    model=MODEL_NAME,\n",
    "    messages=[\n",
    "        {\"role\": \"user\", \"content\": message},\n",
    "    ]\n",
    ")\n",
    "\n",
    "# レスポンスの表示\n",
    "pprint(vars(response))\n",
    "\n",
    "# 言語モデルからの回答を表示\n",
    "print(\"言語モデルからの回答:\")\n",
    "print(response.choices[0].message.content.strip())"
   ]
  }
 ],
 "metadata": {
  "kernelspec": {
   "display_name": ".venv",
   "language": "python",
   "name": "python3"
  },
  "language_info": {
   "codemirror_mode": {
    "name": "ipython",
    "version": 3
   },
   "file_extension": ".py",
   "mimetype": "text/x-python",
   "name": "python",
   "nbconvert_exporter": "python",
   "pygments_lexer": "ipython3",
   "version": "3.12.10"
  }
 },
 "nbformat": 4,
 "nbformat_minor": 5
}
