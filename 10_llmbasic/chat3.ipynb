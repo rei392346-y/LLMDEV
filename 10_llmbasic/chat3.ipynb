{
 "cells": [
  {
   "cell_type": "code",
   "execution_count": null,
   "id": "5f1a645e",
   "metadata": {},
   "outputs": [
    {
     "name": "stdout",
     "output_type": "stream",
     "text": [
      "--------------------\n",
      "もちろんです！日本は多様な文化、歴史、自然の美しさが融合した魅力的な国です。以下にいくつかのポイントを紹介します。\n",
      "\n",
      "### 1. 文化と伝統\n",
      "- **祭り**: 日本各地で行われる伝統的な祭り（例：祇園祭、ねぶた祭り）は、地域の文化や歴史を体験できる素晴らしい機\n",
      "--------------------\n",
      "もちろんです！日本は多様な文化、歴史、自然、美食などが魅力的な国です。以下にいくつかのポイントを紹介します。\n",
      "\n",
      "### 1. 文化と伝統\n",
      "- **祭り**: 日本各地で行われる伝統的な祭り（例：祇園祭、ねぶた祭り）は、地域の文化や歴史を感じることができます。\n",
      "- **茶道**:\n",
      "--------------------\n",
      "もちろんです！日本は多様な文化、歴史、自然、美食などが魅力的な国です。以下にいくつかのポイントを紹介します。\n",
      "\n",
      "### 1. 文化と伝統\n",
      "- **祭り**: 日本各地で行われる伝統的な祭り（例：祇園祭、ねぶた祭り）は、地域の文化や歴史を感じることができます。\n",
      "- **茶道**:\n"
     ]
    }
   ],
   "source": [
    "import os\n",
    "from dotenv import load_dotenv\n",
    "from openai import OpenAI\n",
    "from pprint import pprint\n",
    "\n",
    "# 環境変数の取得\n",
    "load_dotenv(\"../.env\")\n",
    "\n",
    "# OpenAI APIクライアントを生成\n",
    "client = OpenAI(api_key=os.environ['API_KEY'])\n",
    "\n",
    "# モデル名\n",
    "MODEL_NAME = \"gpt-4o-mini\"\n",
    "\n",
    "# 出力の多様性\n",
    "message = \"日本の魅力を紹介して！\"\n",
    "\n",
    "# APIへリクエスト\n",
    "response = client.chat.completions.create(\n",
    "    model=MODEL_NAME,\n",
    "    messages=[\n",
    "        {\"role\": \"user\", \"content\": message},\n",
    "    ],\n",
    "    # temperature=1.4, # 数値が大きいと多様な回答を得る。0.0にすると同じ結果が繰り返すようになる\n",
    "    temperature=0.0,\n",
    "    n = 3, # 3回答を得る\n",
    "    max_completion_tokens = 100 # 出力トークン長を制限\n",
    ")\n",
    "\n",
    "# 結果を表示（複数回答を比較）\n",
    "for choice in response.choices:\n",
    "    print(\"-\" * 20)\n",
    "    print(choice.message.content.strip())\n"
   ]
  }
 ],
 "metadata": {
  "kernelspec": {
   "display_name": ".venv",
   "language": "python",
   "name": "python3"
  },
  "language_info": {
   "codemirror_mode": {
    "name": "ipython",
    "version": 3
   },
   "file_extension": ".py",
   "mimetype": "text/x-python",
   "name": "python",
   "nbconvert_exporter": "python",
   "pygments_lexer": "ipython3",
   "version": "3.12.10"
  }
 },
 "nbformat": 4,
 "nbformat_minor": 5
}
