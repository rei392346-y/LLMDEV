{
 "cells": [
  {
   "cell_type": "code",
   "execution_count": 1,
   "id": "96309543",
   "metadata": {},
   "outputs": [
    {
     "name": "stdout",
     "output_type": "stream",
     "text": [
      "--------------------\n",
      "もちろんです！日本は、多様な文化、歴史、自然美、そして美味しい食べ物が溢れる魅力的な国です。以下に日本の魅力をいくつか紹介します。\n",
      "\n",
      "### 1. 文化と歴史\n",
      "- **伝統的な祭り**: 日本各地で行われるユニークな祭りは、地域の文化を色濃く反映しています。例えば、京都の\n",
      "--------------------\n",
      "もちろんです！日本にはたくさんの魅力があります。いくつかのポイントを紹介しますね。\n",
      "\n",
      "1. **自然の美**: 日本には四季があります。それぞれの季節には美しい風景があります。春には桜の花が咲き、夏には緑が生い茂り、秋には紅葉が美しいです。冬には雪景色が魅力的です。\n",
      "\n",
      "2. **文化と伝統**\n",
      "--------------------\n",
      "もちろんです！日本の魅力は多岐にわたります。以下にいくつかのポイントを紹介します。\n",
      "\n",
      "### 1. 文化と伝統\n",
      "日本は豊かな文化と伝統を持つ国です。お祭りや伝統行事、茶道、花道、武道などの伝統文化は、地域ごとに多様な魅力を持っています。\n",
      "\n",
      "### 2. 美しい自然\n",
      "日本は四\n"
     ]
    }
   ],
   "source": [
    "import os\n",
    "from dotenv import load_dotenv\n",
    "from openai import OpenAI\n",
    "from pprint import pprint\n",
    "\n",
    "# 環境変数の取得\n",
    "load_dotenv(\"../.env\")\n",
    "\n",
    "# OpenAI APIクライアントを生成\n",
    "client = OpenAI(api_key=os.environ['API_KEY'])\n",
    "\n",
    "# モデル名\n",
    "MODEL_NAME = \"gpt-4o-mini\"\n",
    "\n",
    "# 出力の多様性\n",
    "message = \"日本の魅力を紹介して！\"\n",
    "\n",
    "# APIへリクエスト\n",
    "response = client.chat.completions.create(\n",
    "    model=MODEL_NAME,\n",
    "    messages=[\n",
    "        {\"role\": \"user\", \"content\": message},\n",
    "    ],\n",
    "    presence_penalty=-2.0,\n",
    "    n = 3, # 3回答を得る\n",
    "    max_completion_tokens = 100 # 出力トークン長を制限\n",
    ")\n",
    "\n",
    "# 結果を表示（複数回答を比較）\n",
    "for choice in response.choices:\n",
    "    print(\"-\" * 20)\n",
    "    print(choice.message.content.strip())\n"
   ]
  }
 ],
 "metadata": {
  "kernelspec": {
   "display_name": ".venv",
   "language": "python",
   "name": "python3"
  },
  "language_info": {
   "codemirror_mode": {
    "name": "ipython",
    "version": 3
   },
   "file_extension": ".py",
   "mimetype": "text/x-python",
   "name": "python",
   "nbconvert_exporter": "python",
   "pygments_lexer": "ipython3",
   "version": "3.12.10"
  }
 },
 "nbformat": 4,
 "nbformat_minor": 5
}
