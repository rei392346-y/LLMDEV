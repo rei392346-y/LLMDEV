{
 "cells": [
  {
   "cell_type": "code",
   "execution_count": 1,
   "id": "7b36ad41",
   "metadata": {},
   "outputs": [
    {
     "name": "stdout",
     "output_type": "stream",
     "text": [
      "言語モデルを使う上でのポイントはいくつかあります。以下に主要な点を挙げます。\n",
      "\n",
      "1. **目的を明確にする**:\n",
      "   - 何を達成したいのか、具体的な目的を明確にすることで、言語モデルの使い方や調整がしやすくなります。\n",
      "\n",
      "2. **プロンプト設計**:\n",
      "   - モデルへの入力（プロンプト）の設計が結果に大きく影響します。明確で具体的な指示を与えることで、より望ましい出力が得られます。\n",
      "\n",
      "3. **設定の調整**:\n",
      "   - モデルのパラメータ（温度、最大トークン数など）を調整することで、出力の多様性やクリエイティビティを管理できます。例えば、温度を高く設定するとランダム性が増します。\n",
      "\n",
      "4. **フィードバックの活用**:\n",
      "   - モデルからの出力を評価し、フィードバックを次の入力に反映させることで、より良い結果を得ることができます。\n",
      "\n",
      "5. **倫理的配慮**:\n",
      "   - 様々なリスク（誤情報の拡散、バイアスの含有など）を考慮し、倫理的な使い方を心掛けることが重要です。\n",
      "\n",
      "6. **制限を理解する**:\n",
      "   - モデルには限界があり、必ずしも正確な情報を提供するわけではありません。信頼性の確認を行い、重要な決定には追加の検証が必要です。\n",
      "\n",
      "7. **継続的学習**:\n",
      "   - 使用しながら学び続け、プロンプトの工夫や結果の分析を行うことで、効果的な活用が可能になります。\n",
      "\n",
      "8. **多様な応用**:\n",
      "   - チャットボット、コンテンツ生成、翻訳、要約など、さまざまな用途にモデルを活用できるため、用途に応じた活用方法を考えることが大切です。\n",
      "\n",
      "これらのポイントを意識しながら言語モデルを活用することで、効果的で実用的な結果を得ることができます。"
     ]
    }
   ],
   "source": [
    "# 必要なモジュールをインポート\n",
    "import os\n",
    "from dotenv import load_dotenv\n",
    "from openai import OpenAI\n",
    "from pprint import pprint\n",
    "\n",
    "\n",
    "# 環境変数の取得\n",
    "load_dotenv(\"../.env\")\n",
    "# OpenAI APIクライアントを生成\n",
    "client = OpenAI(api_key=os.environ['API_KEY'])\n",
    "# モデル名\n",
    "MODEL_NAME = \"gpt-4o-mini\"\n",
    "\n",
    "# メッセージの設定\n",
    "message = \"言語モデルを使う上でのポイントは\"\n",
    "\n",
    "# APIへリクエスト\n",
    "stream = client.chat.completions.create(\n",
    "    model=MODEL_NAME,\n",
    "    messages=[\n",
    "        {\"role\": \"user\", \"content\": message},\n",
    "    ],\n",
    "    stream=True,\n",
    ")\n",
    "\n",
    "for chunk in stream:\n",
    "    if chunk.choices:\n",
    "        if chunk.choices[0].delta.content is not None:\n",
    "            print(chunk.choices[0].delta.content, end=\"\")"
   ]
  }
 ],
 "metadata": {
  "kernelspec": {
   "display_name": ".venv",
   "language": "python",
   "name": "python3"
  },
  "language_info": {
   "codemirror_mode": {
    "name": "ipython",
    "version": 3
   },
   "file_extension": ".py",
   "mimetype": "text/x-python",
   "name": "python",
   "nbconvert_exporter": "python",
   "pygments_lexer": "ipython3",
   "version": "3.12.10"
  }
 },
 "nbformat": 4,
 "nbformat_minor": 5
}
