{
 "cells": [
  {
   "cell_type": "code",
   "execution_count": 2,
   "id": "c1e11e17",
   "metadata": {},
   "outputs": [],
   "source": [
    "# クラスの定義\n",
    "class Dog:\n",
    "    # クラスの属性\n",
    "    species = \"イヌ科イヌ属\"  # 属名（クラス変数）\n",
    "\n",
    "    # 初期化メソッド（コンストラクタ）\n",
    "    def __init__(self, name, age):\n",
    "        # インスタンスの属性\n",
    "        self.name = name  # 犬の名前\n",
    "        self.age = age    # 犬の年齢\n",
    "\n",
    "    # メソッド\n",
    "    def bark(self):\n",
    "        return f\"{self.name}、{self.age}歳だよ。ワン！\""
   ]
  },
  {
   "cell_type": "code",
   "execution_count": 3,
   "id": "50042e84",
   "metadata": {},
   "outputs": [
    {
     "name": "stdout",
     "output_type": "stream",
     "text": [
      "ジョン、3歳だよ。ワン！\n",
      "ポチ、5歳だよ。ワン！\n"
     ]
    }
   ],
   "source": [
    "# クラスからインスタンスを作成\n",
    "dog1 = Dog(\"ジョン\", 3)\n",
    "dog2 = Dog(\"ポチ\", 5)\n",
    "\n",
    "print(dog1.bark())  # ジョン、3歳だよ。ワン！\n",
    "print(dog2.bark())  # ポチ、5歳だよ。ワン！"
   ]
  },
  {
   "cell_type": "code",
   "execution_count": 5,
   "id": "c5423e61",
   "metadata": {},
   "outputs": [
    {
     "name": "stdout",
     "output_type": "stream",
     "text": [
      "ポチ\n",
      "ジョン\n"
     ]
    }
   ],
   "source": [
    "#パブリック属性\n",
    "\"\"\"\n",
    "実際にソースコードを書きながら確認しましょう。\n",
    "\n",
    "以下のコードはパブリック属性の例です。\n",
    "パブリック属性は、外部のコードからもアクセスできるため、Dog クラスのインスタンスから直接読み書きが可能です。\n",
    "\"\"\"\n",
    "class Dog:\n",
    "    def __init__(self, name, age):\n",
    "        self.name = name  # パブリック属性\n",
    "        self.age = age    # パブリック属性\n",
    "\n",
    "dog = Dog(\"ポチ\", 5)\n",
    "print(dog.name)  # ポチと表示される\n",
    "dog.name = \"ジョン\"  # 名前を「ジョン」に変更\n",
    "print(dog.name)  # ジョンと表示される"
   ]
  },
  {
   "cell_type": "code",
   "execution_count": 7,
   "id": "0f78cd98",
   "metadata": {},
   "outputs": [
    {
     "name": "stdout",
     "output_type": "stream",
     "text": [
      "ポチ\n",
      "5\n"
     ]
    }
   ],
   "source": [
    "# プライベート属性\n",
    "\"\"\"\n",
    "Pythonは、完全に外部からアクセス不可のプライベート属性は実現できませんが、慣習的に属性名の前にアンダースコア _ をつけて、プライベート属性とみなします。\n",
    "\n",
    "_ をつけると「この属性やメソッドは内部的に使われることを意図しており、外部からはアクセスしてほしくない」というメッセージをコードに込められます。\n",
    "ただし慣習的なものなので、（推奨されませんが）アクセスは可能ですし、エラーにもなりません。\n",
    "\n",
    "より強くアクセス制御を行いたい場合は、属性名の前にアンダースコアを2つ __ つけます。\n",
    "この場合、属性に直接アクセスするとエラーになります。ただし特殊な形（_クラス名__属性名）でのアクセスは可能です。\n",
    "\"\"\"\n",
    "class Dog:\n",
    "    def __init__(self, name, age):\n",
    "        self._name = name  # 慣習的にプライベートとして扱われる属性\n",
    "        self.__age = age   # Pythonが内部で「名前修飾」し、外部からアクセスしにくくする属性\n",
    "\n",
    "dog = Dog(\"ポチ\", 5)\n",
    "print(dog._name)  # アクセス可能だが、推奨されない\n",
    "# print(dog.__age)  # エラー：直接アクセスできない\n",
    "print(dog._Dog__age)  # 特殊な形でのアクセスは可能（推奨されない）"
   ]
  },
  {
   "cell_type": "code",
   "execution_count": 10,
   "id": "9dce5841",
   "metadata": {},
   "outputs": [
    {
     "name": "stdout",
     "output_type": "stream",
     "text": [
      "ポチ\n",
      "ジョン\n"
     ]
    }
   ],
   "source": [
    "# アクセサ（ゲッター）とミューテータ（セッター）\n",
    "\"\"\"\n",
    "アクセサ（ゲッター）：属性の値を取得するためのメソッド\n",
    "ミューテータ（セッター）：属性の値を変更するためのメソッド\n",
    "\"\"\"\n",
    "class Dog:\n",
    "    def __init__(self, name, age):\n",
    "        self._name = name\n",
    "        self._age = age\n",
    "\n",
    "    # ゲッター\n",
    "    def get_name(self):\n",
    "        return self._name\n",
    "\n",
    "    # セッター\n",
    "    def set_name(self, name):\n",
    "        if len(name) > 0:\n",
    "            self._name = name\n",
    "        else:\n",
    "            print(\"名前が空です。正しい名前を入力してください。\")\n",
    "\n",
    "    # ゲッター\n",
    "    def get_age(self):\n",
    "        return self._age\n",
    "\n",
    "    # セッター\n",
    "    def set_age(self, age):\n",
    "        if age > 0:\n",
    "            self._age = age\n",
    "        else:\n",
    "            print(\"年齢は1以上に設定してください。\")\n",
    "\n",
    "dog = Dog(\"ポチ\", 5)\n",
    "print(dog.get_name())  # ポチと表示される\n",
    "dog.set_name(\"ジョン\")  # 名前を「ジョン」に変更\n",
    "print(dog.get_name())  # ジョンと表示される\n"
   ]
  },
  {
   "cell_type": "code",
   "execution_count": 9,
   "id": "57a6aca6",
   "metadata": {},
   "outputs": [
    {
     "name": "stdout",
     "output_type": "stream",
     "text": [
      "ポチ\n",
      "ジョン\n"
     ]
    }
   ],
   "source": [
    "# @property デコレータによるゲッターとセッターの簡略化\n",
    "class Dog:\n",
    "    def __init__(self, name, age):\n",
    "        self._name = name\n",
    "        self._age = age\n",
    "\n",
    "    # プロパティを使ったゲッター\n",
    "    @property\n",
    "    def name(self):\n",
    "        return self._name\n",
    "\n",
    "    # プロパティを使ったセッター\n",
    "    @name.setter\n",
    "    def name(self, name):\n",
    "        if len(name) > 0:\n",
    "            self._name = name\n",
    "        else:\n",
    "            print(\"名前が空です。正しい名前を入力してください。\")\n",
    "\n",
    "    @property\n",
    "    def age(self):\n",
    "        return self._age\n",
    "\n",
    "    @age.setter\n",
    "    def age(self, age):\n",
    "        if age > 0:\n",
    "            self._age = age\n",
    "        else:\n",
    "            print(\"年齢は1以上に設定してください。\")\n",
    "\n",
    "dog = Dog(\"ポチ\", 5)\n",
    "print(dog.name)  # ポチと表示される（ゲッター）\n",
    "dog.name = \"ジョン\"  # 名前を「ジョン」に変更（セッター）\n",
    "print(dog.name)  # ジョンと表示される"
   ]
  },
  {
   "cell_type": "code",
   "execution_count": null,
   "id": "1c7e54c8",
   "metadata": {},
   "outputs": [
    {
     "name": "stdout",
     "output_type": "stream",
     "text": [
      "何か音を出しています。\n",
      "何か音を出しています。\n",
      "ワンワン！\n"
     ]
    }
   ],
   "source": [
    "# 継承の例\n",
    "\"\"\"\n",
    "この例では、Dog クラスが Animal クラスを継承しつつ、bark() という独自のメソッドを持っています。\n",
    "このように、子クラスには親クラスにない新しいメソッドを自由に追加できます。\n",
    "\"\"\"\n",
    "# 親クラス\n",
    "class Animal:\n",
    "    def __init__(self, name, age):\n",
    "        self.name = name\n",
    "        self.age = age\n",
    "\n",
    "    def speak(self):\n",
    "        return \"何か音を出しています。\"\n",
    "\n",
    "# 子クラス\n",
    "class Dog(Animal):\n",
    "    def bark(self):\n",
    "        return \"ワンワン！\"\n",
    "\n",
    "# Animal クラスからインスタンスを作成\n",
    "animal = Animal(\"生き物\", 5)\n",
    "print(animal.speak())  # 何か音を出しています。\n",
    "\n",
    "# Dog クラスからインスタンスを作成\n",
    "dog = Dog(\"ポチ\", 3)\n",
    "print(dog.speak())     # 何か音を出しています。（親クラスのメソッドを使用）\n",
    "print(dog.bark())      # ワンワン！（子クラス独自のメソッドを使用）"
   ]
  },
  {
   "cell_type": "code",
   "execution_count": null,
   "id": "a557a917",
   "metadata": {},
   "outputs": [
    {
     "name": "stdout",
     "output_type": "stream",
     "text": [
      "ポチ はワンワンと吠えています！\n"
     ]
    }
   ],
   "source": [
    "# メソッドのオーバーライドの例\n",
    "\"\"\"\n",
    "メソッドのオーバーライド（Override）とは、親クラスに定義されているメソッドを、子クラスで再定義して上書きすることです。\n",
    "\"\"\"\n",
    "class Animal:\n",
    "    def __init__(self, name, age):\n",
    "        self.name = name\n",
    "        self.age = age\n",
    "\n",
    "    def speak(self):\n",
    "        return \"何か音を出しています。\"\n",
    "\n",
    "class Dog(Animal):\n",
    "    def speak(self):  # 親クラスの speak メソッドをオーバーライド\n",
    "        return f\"{self.name} はワンワンと吠えています！\"\n",
    "\n",
    "dog = Dog(\"ポチ\", 3)\n",
    "print(dog.speak())  # ポチ はワンワンと吠えています！\n"
   ]
  },
  {
   "cell_type": "code",
   "execution_count": 13,
   "id": "9ee5e6f1",
   "metadata": {},
   "outputs": [
    {
     "name": "stdout",
     "output_type": "stream",
     "text": [
      "何か音を出しています。 そして、ポチ はワンワンと吠えています！\n"
     ]
    }
   ],
   "source": [
    "# super() の使用例\n",
    "\"\"\"\n",
    "子クラスから親クラスのメソッドを呼び出したい場合は、super() を使用します。\n",
    "これにより、親クラスのメソッドを呼び出し、そこに追加処理を加えることが可能になります。\n",
    "\"\"\"\n",
    "class Animal:\n",
    "    def __init__(self, name, age):\n",
    "        self.name = name\n",
    "        self.age = age\n",
    "\n",
    "    def speak(self):\n",
    "        return \"何か音を出しています。\"\n",
    "\n",
    "class Dog(Animal):\n",
    "    def speak(self):\n",
    "        parent_message = super().speak()  # 親クラスの speak メソッドを呼び出す\n",
    "        return f\"{parent_message} そして、{self.name} はワンワンと吠えています！\"\n",
    "\n",
    "dog = Dog(\"ポチ\", 3)\n",
    "print(dog.speak())  # 何か音を出しています。そして、ポチ はワンワンと吠えています！"
   ]
  },
  {
   "cell_type": "code",
   "execution_count": null,
   "id": "775c7238",
   "metadata": {},
   "outputs": [],
   "source": [
    "# 複数の子クラスの例\n",
    "\"\"\"\n",
    "1つの親クラスから、複数の子クラスを作成も可能です。\n",
    "それぞれの子クラスに個別のメソッドや属性を持たせることで、\n",
    "共通の基盤を持ちながら異なる機能を持つオブジェクトを作成できます。\n",
    "\"\"\"\n",
    "class Animal:\n",
    "    def __init__(self, name, age):\n",
    "        self.name = name\n",
    "        self.age = age\n",
    "\n",
    "    def speak(self):\n",
    "        return \"何か音を出しています。\"\n",
    "\n",
    "class Dog(Animal):\n",
    "    def speak(self):\n",
    "        return f\"{self.name} はワンワンと吠えています！\"\n",
    "\n",
    "class Cat(Animal):\n",
    "    def speak(self):\n",
    "        return f\"{self.name} はニャーと鳴いています！\"\n",
    "\n",
    "dog = Dog(\"ポチ\", 3)\n",
    "cat = Cat(\"ミケ\", 2)\n",
    "\n",
    "print(dog.speak())  # ポチ はワンワンと吠えています！\n",
    "print(cat.speak())  # ミケ はニャーと鳴いています！\n",
    "\"\"\"\n",
    "ここでは、Dog クラスと Cat クラスの両方が Animal クラスを継承していますが、それぞれ異なる speak() メソッドを持っています。\n",
    "このように、1つの親クラスから複数の子クラスを作成することで、コードの再利用がしやすくなり、保守性が向上します。\n",
    "\"\"\""
   ]
  },
  {
   "cell_type": "code",
   "execution_count": 14,
   "id": "d0d8d4e4",
   "metadata": {},
   "outputs": [
    {
     "name": "stdout",
     "output_type": "stream",
     "text": [
      "ワンワン！\n",
      "ニャー！\n"
     ]
    }
   ],
   "source": [
    "# ポリモーフィズムの基本\n",
    "\"\"\"\n",
    "それでは、具体的な例を使って、ポリモーフィズムをどのように利用するか見てみましょう。\n",
    "Animal クラスを親クラスとして、\n",
    "Dog クラスと Cat クラスをそれぞれ作成し、\n",
    "それぞれのクラスに speak() メソッドを定義していきます。\n",
    "\"\"\"\n",
    "class Animal:\n",
    "    def speak(self):\n",
    "        return \"何か音を出しています。\"\n",
    "\n",
    "class Dog(Animal):\n",
    "    def speak(self):\n",
    "        return \"ワンワン！\"\n",
    "\n",
    "class Cat(Animal):\n",
    "    def speak(self):\n",
    "        return \"ニャー！\"\n",
    "\n",
    "# 各クラスのインスタンスを作成\n",
    "dog = Dog()\n",
    "cat = Cat()\n",
    "\n",
    "# 同じ speak メソッドを呼び出すが、異なる結果が返ってくる\n",
    "print(dog.speak())  # ワンワン！\n",
    "print(cat.speak())  # ニャー！"
   ]
  },
  {
   "cell_type": "code",
   "execution_count": 15,
   "id": "2c16c692",
   "metadata": {},
   "outputs": [
    {
     "name": "stdout",
     "output_type": "stream",
     "text": [
      "ワンワン！\n",
      "ニャー！\n"
     ]
    }
   ],
   "source": [
    "# ポリモーフィズムを利用する場面\n",
    "\"\"\"\n",
    "ポリモーフィズムは、異なるクラスを一括して処理する際に非常に便利です。\n",
    "例えば、Dog や Cat のインスタンスをリストに入れ、すべての動物に対して speak() メソッドを呼び出すようにして使います。\n",
    "\"\"\"\n",
    "class Animal:\n",
    "    def speak(self):\n",
    "        return \"何か音を出しています。\"\n",
    "\n",
    "class Dog(Animal):\n",
    "    def speak(self):\n",
    "        return \"ワンワン！\"\n",
    "\n",
    "class Cat(Animal):\n",
    "    def speak(self):\n",
    "        return \"ニャー！\"\n",
    "\n",
    "animals = [Dog(), Cat()]\n",
    "\n",
    "for animal in animals:\n",
    "    print(animal.speak())  # 各オブジェクトに応じたメソッドが呼ばれる\n"
   ]
  },
  {
   "cell_type": "code",
   "execution_count": null,
   "id": "5ac0ed2d",
   "metadata": {},
   "outputs": [
    {
     "name": "stdout",
     "output_type": "stream",
     "text": [
      "ポチ がワンワンと吠えます！\n"
     ]
    }
   ],
   "source": [
    "# インスタンスメソッド\n",
    "class Dog:\n",
    "    def __init__(self, name):\n",
    "        self.name = name  # インスタンス属性\n",
    "\n",
    "    def bark(self):  # インスタンスメソッド\n",
    "        return f\"{self.name} がワンワンと吠えます！\"\n",
    "\n",
    "dog = Dog(\"ポチ\")\n",
    "print(dog.bark())  # ポチ がワンワンと吠えます！"
   ]
  },
  {
   "cell_type": "code",
   "execution_count": 17,
   "id": "c7ca0f9d",
   "metadata": {},
   "outputs": [
    {
     "name": "stdout",
     "output_type": "stream",
     "text": [
      "イヌ科イヌ属\n"
     ]
    }
   ],
   "source": [
    "# クラスメソッド\n",
    "class Dog:\n",
    "    species = \"イヌ科イヌ属\"  # クラス属性\n",
    "\n",
    "    def __init__(self, name):\n",
    "        self.name = name\n",
    "\n",
    "    @classmethod\n",
    "    def get_species(cls):  # クラスメソッド\n",
    "        return cls.species\n",
    "\n",
    "print(Dog.get_species())  # イヌ科イヌ属\n"
   ]
  },
  {
   "cell_type": "code",
   "execution_count": 18,
   "id": "0f80911f",
   "metadata": {},
   "outputs": [
    {
     "name": "stdout",
     "output_type": "stream",
     "text": [
      "犬は人類の最良の友です。\n"
     ]
    }
   ],
   "source": [
    "# 静的メソッド\n",
    "class Dog:\n",
    "    @staticmethod\n",
    "    def info():\n",
    "        return \"犬は人類の最良の友です。\"\n",
    "\n",
    "print(Dog.info())  # 犬は人類の最良の友です。"
   ]
  },
  {
   "cell_type": "markdown",
   "id": "5e7b2271",
   "metadata": {},
   "source": [
    "# マジックメソッド\n",
    "Pythonには、特別な目的のために マジックメソッド（ダンダーメソッド）と呼ばれるメソッドがいくつか定義されています。マジックメソッドは、`__init__` のように両端がダブルアンダースコア __ で囲まれたメソッドで、オブジェクトの特殊な動作を定義するために使われます。これを活用することで、オブジェクトの振る舞いを細かくカスタマイズできます。\n",
    "\n",
    "よく使うマジックメソッドを以下に示します。\n",
    "\n",
    "・`__init__`: 初期化メソッド。オブジェクトの初期化時に呼び出されます。  \n",
    "・`__str__`: 文字列表現。print() や str() を使ったときに呼び出されます。  \n",
    "・`__repr__`: 開発者向けの文字列表現。repr() を使ったときや、デバッグの際に役立ちます。  \n",
    "・`__len__`: 長さ。len() 関数を使ったときに呼び出されます。  \n",
    "・`__eq__`: 等価比較。== 演算子を使ったときに呼び出されます。"
   ]
  },
  {
   "cell_type": "code",
   "execution_count": 19,
   "id": "f741e78c",
   "metadata": {},
   "outputs": [
    {
     "name": "stdout",
     "output_type": "stream",
     "text": [
      "犬の名前: ポチ, 年齢: 5歳\n",
      "Dog(name='ポチ', age=5)\n",
      "True\n"
     ]
    }
   ],
   "source": [
    "# マジックメソッドの例\n",
    "class Dog:\n",
    "    def __init__(self, name, age):\n",
    "        self.name = name\n",
    "        self.age = age\n",
    "\n",
    "    def __str__(self):  # print()やstr()で表示される文字列\n",
    "        return f\"犬の名前: {self.name}, 年齢: {self.age}歳\"\n",
    "\n",
    "    def __repr__(self):  # repr()やデバッグの際に表示される文字列\n",
    "        return f\"Dog(name='{self.name}', age={self.age})\"\n",
    "\n",
    "    def __eq__(self, other):  # == 演算子の挙動を定義\n",
    "        return self.age == other.age\n",
    "\n",
    "dog1 = Dog(\"ポチ\", 5)\n",
    "dog2 = Dog(\"ジョン\", 5)\n",
    "\n",
    "print(dog1)  # 犬の名前: ポチ, 年齢: 5歳\n",
    "print(repr(dog1))  # Dog(name='ポチ', age=5)\n",
    "print(dog1 == dog2)  # True（年齢が同じため）"
   ]
  },
  {
   "cell_type": "code",
   "execution_count": 20,
   "id": "61d207f0",
   "metadata": {},
   "outputs": [],
   "source": [
    "# 型ヒント\n",
    "def add(x: int, y: int) -> int:\n",
    "    return x + y"
   ]
  },
  {
   "cell_type": "markdown",
   "id": "55e2c5d3",
   "metadata": {},
   "source": [
    "# SOLID原則とOOP設計\n",
    "\n",
    "OOP設計には SOLID原則 と呼ばれる5つの基本原則があります。これらは、コードの柔軟性や拡張性を高め、保守しやすいコードを作るための指針です。\n",
    "\n",
    "S：単一責任原則（Single Responsibility Principle）  \n",
    "O：開放閉鎖原則（Open-Closed Principle）  \n",
    "L：リスコフの置換原則（Liskov Substitution Principle）  \n",
    "I：インターフェース分離の原則（Interface Segregation Principle）  \n",
    "D：依存関係逆転の原則（Dependency Inversion Principle）  "
   ]
  },
  {
   "cell_type": "code",
   "execution_count": 22,
   "id": "cd595285",
   "metadata": {},
   "outputs": [
    {
     "name": "stdout",
     "output_type": "stream",
     "text": [
      "ワンワン！\n",
      "ニャー！\n"
     ]
    }
   ],
   "source": [
    "# L：リスコフの置換原則（Liskov Substitution Principle）\n",
    "\"\"\"\n",
    "サブクラスは、親クラスと互換性を持ち、親クラスが使われる場所でサブクラスも問題なく利用できるべきです。\n",
    "サブクラスを使うことで、意図しない動作が起きないように設計します。\n",
    "\"\"\"\n",
    "## サンプルコード\n",
    "class Animal:\n",
    "    def speak(self):\n",
    "        pass\n",
    "\n",
    "class Dog(Animal):\n",
    "    def speak(self):\n",
    "        return \"ワンワン！\"\n",
    "\n",
    "class Cat(Animal):\n",
    "    def speak(self):\n",
    "        return \"ニャー！\"\n",
    "\n",
    "def make_animal_speak(animal: Animal):\n",
    "    print(animal.speak())\n",
    "\n",
    "make_animal_speak(Dog())  # ワンワン！\n",
    "make_animal_speak(Cat())  # ニャー！"
   ]
  }
 ],
 "metadata": {
  "kernelspec": {
   "display_name": ".venv",
   "language": "python",
   "name": "python3"
  },
  "language_info": {
   "codemirror_mode": {
    "name": "ipython",
    "version": 3
   },
   "file_extension": ".py",
   "mimetype": "text/x-python",
   "name": "python",
   "nbconvert_exporter": "python",
   "pygments_lexer": "ipython3",
   "version": "3.12.10"
  }
 },
 "nbformat": 4,
 "nbformat_minor": 5
}
