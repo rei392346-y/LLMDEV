{
 "cells": [
  {
   "cell_type": "code",
   "execution_count": 1,
   "id": "40b505c0",
   "metadata": {},
   "outputs": [
    {
     "data": {
      "text/plain": [
       "'質問:こんにちわ'"
      ]
     },
     "metadata": {},
     "output_type": "display_data"
    },
    {
     "name": "stdout",
     "output_type": "stream",
     "text": [
      "こんにちは！今日はどんなことをお手伝いできますか？\n"
     ]
    },
    {
     "data": {
      "text/plain": [
       "'質問:退職する時の手続きを教えて'"
      ]
     },
     "metadata": {},
     "output_type": "display_data"
    },
    {
     "name": "stdout",
     "output_type": "stream",
     "text": [
      "退職する際の手続きは以下の通りです。\n",
      "\n",
      "1. **退職の申し出と届け出**\n",
      "   - 自己都合退職を希望する場合は、退職希望日の1ヶ月前までに直属の上司に申し出る必要があります。\n",
      "   - 退職届を提出し、その後、退職日や引き継ぎ内容について上司と人事部と協議します。\n",
      "\n",
      "2. **退職までの流れ**\n",
      "   - 引き継ぎを行い、担当業務の進捗や内容、必要な手順を文書にまとめて後任者へ引き継ぎます。\n",
      "   - 会社の備品（パソコン、スマートフォン、IDカード、制服など）を退職日までに返却します。\n",
      "   - 人事部による退職面談が実施され、退職理由や今後のキャリア計画について意見を伺います。\n",
      "\n",
      "3. **退職日の決定**\n",
      "   - 退職日は業務の都合や引き継ぎ内容を考慮し、上司および人事部と話し合いの上で最終決定します。\n",
      "\n",
      "これらの手続きを踏むことで、円滑に退職することができます。他に知りたいことがあれば教えてください。\n"
     ]
    },
    {
     "data": {
      "text/plain": [
       "'質問:退職届のテンプレートをください'"
      ]
     },
     "metadata": {},
     "output_type": "display_data"
    },
    {
     "name": "stdout",
     "output_type": "stream",
     "text": [
      "退職届のテンプレートは以下のようになります。\n",
      "\n",
      "---\n",
      "\n",
      "**退職届**\n",
      "\n",
      "[日付]\n",
      "\n",
      "[あなたの名前]  \n",
      "[あなたの住所]  \n",
      "[あなたの電話番号]  \n",
      "\n",
      "[会社名]  \n",
      "[会社の住所]  \n",
      "[上司の名前] 様  \n",
      "\n",
      "私は、[退職希望日]をもって退職いたします。  \n",
      "退職理由は[理由を簡潔に記入]です。  \n",
      "これまでのご指導に感謝申し上げます。\n",
      "\n",
      "何卒よろしくお願い申し上げます。\n",
      "\n",
      "[あなたの署名]  \n",
      "[あなたの名前]\n",
      "\n",
      "---\n",
      "\n",
      "このテンプレートを参考にして、必要な情報を記入してください。他に何かお手伝いできることがあれば教えてください。\n",
      "\n",
      "---ご利用ありがとうございました！---\n"
     ]
    }
   ],
   "source": [
    "# 必要なモジュールをインポート\n",
    "import os\n",
    "from dotenv import load_dotenv\n",
    "from llama_index.core import VectorStoreIndex, SimpleDirectoryReader\n",
    "from llama_index.llms.openai import OpenAI\n",
    "\n",
    "# 環境変数の取得\n",
    "load_dotenv(\"../.env\")\n",
    "os.environ['OPENAI_API_KEY']  = os.environ['API_KEY']\n",
    "\n",
    "# モデル名\n",
    "MODEL_NAME = \"gpt-4o-mini\"\n",
    "\n",
    "# Indexの構築\n",
    "documents = SimpleDirectoryReader('./data/text').load_data()\n",
    "index = VectorStoreIndex.from_documents(documents)\n",
    "\n",
    "# Chat Engineの作成\n",
    "llm = OpenAI(model=MODEL_NAME)\n",
    "chat_engine = index.as_chat_engine(llm=llm)\n",
    "\n",
    "# チャットの開始\n",
    "while(True):\n",
    "    message = input(\"メッセージを入力:\")\n",
    "    if message.strip()==\"\":\n",
    "        break\n",
    "    # Jupyter NotebookやGoogle Colabなどでリッチな表示をする場合はdisplayが便利\n",
    "    # 通常のターミナルで実行する場合は print(f\"質問:{message}\") を使う\n",
    "    display(f\"質問:{message}\")\n",
    "\n",
    "    # 質問（以下にソースコードを記述）\n",
    "    # chat_engineにユーザーのメッセージを渡して、応答を生成\n",
    "    response = chat_engine.chat(message)\n",
    "\n",
    "    # 回答を表示（以下にソースコードを記述）\n",
    "    # 応答オブジェクトからテキスト部分を取り出して表示\n",
    "    print(response.response)\n",
    "\n",
    "\n",
    "print(\"\\n---ご利用ありがとうございました！---\")"
   ]
  }
 ],
 "metadata": {
  "kernelspec": {
   "display_name": ".venv",
   "language": "python",
   "name": "python3"
  },
  "language_info": {
   "codemirror_mode": {
    "name": "ipython",
    "version": 3
   },
   "file_extension": ".py",
   "mimetype": "text/x-python",
   "name": "python",
   "nbconvert_exporter": "python",
   "pygments_lexer": "ipython3",
   "version": "3.12.10"
  }
 },
 "nbformat": 4,
 "nbformat_minor": 5
}
