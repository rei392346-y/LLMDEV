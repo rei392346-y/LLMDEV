{
 "cells": [
  {
   "cell_type": "code",
   "execution_count": 1,
   "id": "c1510568",
   "metadata": {},
   "outputs": [
    {
     "name": "stdout",
     "output_type": "stream",
     "text": [
      "処理を開始します。\n",
      "Excelファイルに分析結果を保存しました。\n"
     ]
    }
   ],
   "source": [
    "# 必要なモジュールをインポート\n",
    "import os\n",
    "from dotenv import load_dotenv\n",
    "from openai import OpenAI\n",
    "import pandas as pd\n",
    "\n",
    "# 環境変数の取得\n",
    "load_dotenv()\n",
    "\n",
    "# OpenAI APIクライアントを生成\n",
    "client = OpenAI(api_key=os.environ['API_KEY'])\n",
    "\n",
    "# モデル名\n",
    "MODEL_NAME = \"gpt-4o-mini\"\n",
    "\n",
    "# ワークフロー化\n",
    "print(\"処理を開始します。\")\n",
    "\n",
    "# Excelファイルを読み込む\n",
    "df = pd.read_excel('サンプルデータ.xlsx', sheet_name='アンケート')\n",
    "\n",
    "# アンケートの主要キーワードをLLMで抽出する関数\n",
    "def extract_keywords(text):\n",
    "    # 2. データをLLM用にテキスト形式に変換\n",
    "    # プロンプトの作成\n",
    "    prompt_text = f\"以下のアンケートから主要なキーワードをカンマ区切りで抽出してください。\\nアンケート: {text}\"\n",
    "\n",
    "    # 3. OpenAI APIの呼び出し\n",
    "    try:\n",
    "        # OpenAI APIで応答を生成\n",
    "        response = client.chat.completions.create(\n",
    "            model=MODEL_NAME,\n",
    "            messages=[\n",
    "                {\"role\": \"user\", \"content\": prompt_text},\n",
    "            ],\n",
    "            max_tokens=100,  # 応答の長さを調整\n",
    "            temperature=0.3  # 創造性の調整\n",
    "        )\n",
    "        # キーワード抽出結果を取得\n",
    "        keywords = response.choices[0].message.content.strip()\n",
    "        return keywords\n",
    "    \n",
    "    except Exception as e:\n",
    "        print(f\"API呼び出しでエラーが発生しました: {e}\")\n",
    "        return \"エラー\"\n",
    "\n",
    "# A列の各行のアンケートに対してキーワード抽出を実行し、B列に書き込む\n",
    "df['キーワード'] = df['アンケート'].apply(extract_keywords)\n",
    "\n",
    "# 結果をExcelファイルに保存\n",
    "df.to_excel(\"アンケート分析結果.xlsx\", index=False)\n",
    "\n",
    "print(\"Excelファイルに分析結果を保存しました。\")"
   ]
  }
 ],
 "metadata": {
  "kernelspec": {
   "display_name": ".venv",
   "language": "python",
   "name": "python3"
  },
  "language_info": {
   "codemirror_mode": {
    "name": "ipython",
    "version": 3
   },
   "file_extension": ".py",
   "mimetype": "text/x-python",
   "name": "python",
   "nbconvert_exporter": "python",
   "pygments_lexer": "ipython3",
   "version": "3.12.10"
  }
 },
 "nbformat": 4,
 "nbformat_minor": 5
}
