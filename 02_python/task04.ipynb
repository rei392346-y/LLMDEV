{
 "cells": [
  {
   "cell_type": "code",
   "execution_count": 7,
   "id": "90ad6397",
   "metadata": {},
   "outputs": [
    {
     "name": "stdout",
     "output_type": "stream",
     "text": [
      "1つ目の数値を入力してください: 50\n",
      "2つ目の数値を入力してください: 5\n",
      "計算結果: 10.0\n"
     ]
    }
   ],
   "source": [
    "# 仕様\n",
    "\"\"\"\n",
    "・ユーザーに2つの数値を入力させ、それらを割り算するプログラムを作成してください。\n",
    "・数値の代わりに文字を入力した場合は「エラー: 数値を入力してください」と表示します。\n",
    "・割る数が0の場合は「エラー: 0で割ることはできません」と表示します。\n",
    "・計算が正常に完了した場合、結果を表示してください。\n",
    "\"\"\"\n",
    "try:\n",
    "    # ユーザーに1つ目の数値の入力を促す\n",
    "    num1_str = input(\"1つ目の数値を入力してください: \")\n",
    "    print(f\"1つ目の数値を入力してください: {num1_str}\")\n",
    "    num1 = float(num1_str)\n",
    "    \n",
    "    # ユーザーに2つ目の数値の入力を促す\n",
    "    num2_str = input(\"2つ目の数値を入力してください: \")\n",
    "    print(f\"2つ目の数値を入力してください: {num2_str}\")\n",
    "    num2 = float(num2_str)\n",
    "\n",
    "    # 割り算を実行し、結果を表示する\n",
    "    result = num1 / num2\n",
    "    print(f\"計算結果: {result}\")\n",
    "\n",
    "except ValueError:\n",
    "    # 文字列がfloatに変換できない場合のエラー\n",
    "    print(\"エラー: 数値を入力してください\")\n",
    "\n",
    "except ZeroDivisionError:\n",
    "    # 0で割ろうとした場合のエラー\n",
    "    print(\"エラー: 0で割ることはできません\")"
   ]
  }
 ],
 "metadata": {
  "kernelspec": {
   "display_name": ".venv",
   "language": "python",
   "name": "python3"
  },
  "language_info": {
   "codemirror_mode": {
    "name": "ipython",
    "version": 3
   },
   "file_extension": ".py",
   "mimetype": "text/x-python",
   "name": "python",
   "nbconvert_exporter": "python",
   "pygments_lexer": "ipython3",
   "version": "3.12.10"
  }
 },
 "nbformat": 4,
 "nbformat_minor": 5
}
