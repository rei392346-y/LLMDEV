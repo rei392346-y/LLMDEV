{
 "cells": [
  {
   "cell_type": "code",
   "execution_count": null,
   "id": "3a7ee7f7",
   "metadata": {},
   "outputs": [
    {
     "name": "stdout",
     "output_type": "stream",
     "text": [
      "元金を入力してください: 1000\n",
      "年利を入力してください: 5.0\n",
      "10年後の金額: 1628.89\n"
     ]
    }
   ],
   "source": [
    "# 10年後の金額を複利で予測するプログラム\n",
    "\"\"\"\n",
    "入力された元金と金利をもとに、10年後の金額を複利で予測するプログラム\n",
    "　元金：整数のみ\n",
    "　金利：少数でもOK\n",
    "　※いずれも数値以外が入力された場合はエラーメッセージを表示\n",
    "\"\"\"\n",
    "try:\n",
    "    # ユーザーに元金の入力を促す\n",
    "    principal = int(input(\"元金を入力してください: \"))\n",
    "    print(f\"元金を入力してください: {principal}\")\n",
    "\n",
    "    # ユーザーに年利の入力を促す\n",
    "    annual_rate = float(input(\"年利を入力してください: \"))\n",
    "    print(f\"年利を入力してください: {annual_rate}\")\n",
    "\n",
    "    # 計算用\n",
    "    amount = principal\n",
    "    years = 10\n",
    "\n",
    "    # 繰り返し構文を使用して10年間の金額を計算\n",
    "    for _ in range(years):\n",
    "        # 複利の計算式: 元金 * (1 + (利率 / 100))\n",
    "        amount = amount * (1 + annual_rate / 100)\n",
    "\n",
    "    # 計算結果を出力（小数点以下2桁まで表示）\n",
    "    print(f\"{years}年後の金額: {amount:.2f}\")\n",
    "\n",
    "except ValueError:\n",
    "    # 数字以外の入力があった場合のエラーハンドリング\n",
    "    print(\"エラー: 有効な数値を入力してください。\")"
   ]
  }
 ],
 "metadata": {
  "kernelspec": {
   "display_name": ".venv",
   "language": "python",
   "name": "python3"
  },
  "language_info": {
   "codemirror_mode": {
    "name": "ipython",
    "version": 3
   },
   "file_extension": ".py",
   "mimetype": "text/x-python",
   "name": "python",
   "nbconvert_exporter": "python",
   "pygments_lexer": "ipython3",
   "version": "3.12.10"
  }
 },
 "nbformat": 4,
 "nbformat_minor": 5
}
