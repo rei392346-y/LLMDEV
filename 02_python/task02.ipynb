{
 "cells": [
  {
   "cell_type": "code",
   "execution_count": 8,
   "metadata": {},
   "outputs": [
    {
     "name": "stdout",
     "output_type": "stream",
     "text": [
      "税抜価格を入力してください：ｓｄっｇ\n",
      "整数を入力してください。\n",
      "税抜価格を入力してください：１８００\n",
      "税抜価格：1800\n",
      "税込価格：1980\n",
      "送料は350円です\n",
      "送料込税込価格は2330円です\n"
     ]
    }
   ],
   "source": [
    "# 税抜価格の入力を受け付けます\n",
    "# 税抜価格の入力チェック\n",
    "while True:\n",
    "    price_without_tax_str = input(\"税抜価格を入力してください: \")\n",
    "    # 入力された値を表示します\n",
    "    print(f\"税抜価格を入力してください：{price_without_tax_str}\")\n",
    "\n",
    "    try:\n",
    "        # 整数に変換を試みます\n",
    "        price_without_tax = int(price_without_tax_str)\n",
    "        # 変換に成功したらループを抜けます\n",
    "        print(f\"税抜価格：{price_without_tax}\")\n",
    "        break\n",
    "\n",
    "    except ValueError:\n",
    "        # 整数以外が入力された場合はエラーメッセージを表示します\n",
    "        print(\"整数を入力してください。\")\n",
    "\n",
    "# 消費税率と送料を定数として定義します\n",
    "TAX_RATE = 1.10\n",
    "SHIPPING_FEE = 350\n",
    "FREE_SHIPPING_THRESHOLD = 2000\n",
    "\n",
    "# 税込価格を計算します\n",
    "price_with_tax = price_without_tax * TAX_RATE\n",
    "print(f\"税込価格：{int(price_with_tax)}\")\n",
    "\n",
    "# 税込価格に基づいて送料を決定します\n",
    "if price_with_tax >= FREE_SHIPPING_THRESHOLD:\n",
    "    shipping = 0\n",
    "    print(\"送料は無料です\")\n",
    "else:\n",
    "    shipping = SHIPPING_FEE\n",
    "    print(f\"送料は{shipping}円です\")\n",
    "\n",
    "# 送料込の合計価格を計算します\n",
    "total_price = price_with_tax + shipping\n",
    "\n",
    "# 最終的な価格をf文字列を使って表示します\n",
    "print(f\"送料込税込価格は{int(total_price)}円です\")"
   ]
  }
 ],
 "metadata": {
  "kernelspec": {
   "display_name": ".venv",
   "language": "python",
   "name": "python3"
  },
  "language_info": {
   "codemirror_mode": {
    "name": "ipython",
    "version": 3
   },
   "file_extension": ".py",
   "mimetype": "text/x-python",
   "name": "python",
   "nbconvert_exporter": "python",
   "pygments_lexer": "ipython3",
   "version": "3.12.10"
  }
 },
 "nbformat": 4,
 "nbformat_minor": 4
}
