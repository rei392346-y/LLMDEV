{
 "cells": [
  {
   "cell_type": "code",
   "execution_count": 6,
   "id": "d5d3c48b",
   "metadata": {},
   "outputs": [
    {
     "name": "stdout",
     "output_type": "stream",
     "text": [
      "入力されたユーザー名: John Doe\n",
      "エラー: ユーザー名に空白を含めることはできません\n",
      "不正なユーザー名です\n"
     ]
    }
   ],
   "source": [
    "# ユーザー名のバリデーションチェックするプログラム\n",
    "def validate_username(username):\n",
    "    \"\"\"\n",
    "    ユーザー名が指定されたルールに合致するかを検証する関数。\n",
    "\n",
    "    Args:\n",
    "        username (str): 検証するユーザー名の文字列。\n",
    "\n",
    "    Returns:\n",
    "        bool: バリデーションが成功した場合はTrue、失敗した場合はFalse。\n",
    "    \"\"\"\n",
    "    # ルール1: 文字数が5文字以上15文字以内か\n",
    "    if not (5 <= len(username) <= 15):\n",
    "        print(\"エラー: ユーザー名は5文字以上15文字以内で入力してください\")\n",
    "        return False\n",
    "    \n",
    "    # ルール2: 空白が含まれていないか\n",
    "    if ' ' in username:\n",
    "        print(\"エラー: ユーザー名に空白を含めることはできません\")\n",
    "        return False\n",
    "        \n",
    "    # ルール3: 英数字のみで構成されているか\n",
    "    if not username.isalnum():\n",
    "        print(\"エラー: ユーザー名は英数字のみ使用できます\")\n",
    "        return False\n",
    "        \n",
    "    # すべての条件を満たした場合\n",
    "    return True\n",
    "\n",
    "# --- ここからが呼び出し側の処理 ---\n",
    "\n",
    "# ユーザーにユーザー名の入力を促す\n",
    "user_input = input(\"ユーザー名を入力してください: \")\n",
    "print(f\"入力されたユーザー名: {user_input}\")\n",
    "\n",
    "# バリデーション関数を呼び出し、結果を判定する\n",
    "if validate_username(user_input):\n",
    "    # バリデーションが成功した場合\n",
    "    print(\"ユーザー名は有効です\")\n",
    "else:\n",
    "    # バリデーションが失敗した場合\n",
    "    print(\"不正なユーザー名です\")"
   ]
  }
 ],
 "metadata": {
  "kernelspec": {
   "display_name": ".venv",
   "language": "python",
   "name": "python3"
  },
  "language_info": {
   "codemirror_mode": {
    "name": "ipython",
    "version": 3
   },
   "file_extension": ".py",
   "mimetype": "text/x-python",
   "name": "python",
   "nbconvert_exporter": "python",
   "pygments_lexer": "ipython3",
   "version": "3.12.10"
  }
 },
 "nbformat": 4,
 "nbformat_minor": 5
}
