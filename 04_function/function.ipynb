{
 "cells": [
  {
   "cell_type": "code",
   "execution_count": 1,
   "id": "acb16e80",
   "metadata": {},
   "outputs": [
    {
     "name": "stdout",
     "output_type": "stream",
     "text": [
      "「にんてんどううどんてんに」は回文です！\n",
      "「Pythonは便利だが遅い」は回文ではないです。\n",
      "「no devil lived on」は回文です！\n"
     ]
    }
   ],
   "source": [
    "# 関数の役割\n",
    "\"\"\"\n",
    "関数は、特定の操作を1つにまとめたものです。\n",
    "「何度も繰り返す計算やデータの処理」がある場合、その操作を1か所にまとめておくと、\n",
    "複数の場所で使い回せるため、プログラムが効率的で読みやすくなります。\n",
    "\n",
    "たとえば、レッスン3では、以下のような回文を判定するプログラムを作成しました。\n",
    "\"\"\"\n",
    "s = \"にんてんどううどんてんに\"\n",
    "if s == s[::-1]: # 元の値とひっくり返した値が同値である\n",
    "    print(f\"「{s}」は回文です！\")\n",
    "else:\n",
    "    print(f\"「{s}」は回文ではないです。\")\n",
    "\n",
    "s = \"Pythonは便利だが遅い\"\n",
    "if s == s[::-1]:\n",
    "    print(f\"「{s}」は回文です！\")\n",
    "else:\n",
    "    print(f\"「{s}」は回文ではないです。\")\n",
    "\n",
    "s = \"no devil lived on\"\n",
    "if s == s[::-1]:\n",
    "    print(f\"「{s}」は回文です！\")\n",
    "else:\n",
    "    print(f\"「{s}」は回文ではないです。\")\n"
   ]
  },
  {
   "cell_type": "code",
   "execution_count": 3,
   "id": "7d184b7a",
   "metadata": {},
   "outputs": [
    {
     "name": "stdout",
     "output_type": "stream",
     "text": [
      "「にんてんどううどんてんに」は回文です！\n",
      "「Pythonは便利だが遅い」は回文ではないです。\n",
      "「no devil lived on」は回文です！\n"
     ]
    }
   ],
   "source": [
    "# 関数を使うメリット\n",
    "## 関数の定義と呼び出し\n",
    "def is_palindrome(s):\n",
    "    if s == s[::-1]:\n",
    "        print(f\"「{s}」は回文です！\")\n",
    "    else:\n",
    "        print(f\"「{s}」は回文ではないです。\")\n",
    "\n",
    "is_palindrome(\"にんてんどううどんてんに\")\n",
    "\n",
    "is_palindrome(\"Pythonは便利だが遅い\")\n",
    "\n",
    "is_palindrome(\"no devil lived on\")"
   ]
  },
  {
   "cell_type": "code",
   "execution_count": 4,
   "id": "e4b44a80",
   "metadata": {},
   "outputs": [
    {
     "name": "stdout",
     "output_type": "stream",
     "text": [
      "こんにちは、太郎さん！\n",
      "こんにちは、花子さん！\n"
     ]
    }
   ],
   "source": [
    "# 引数の使い方\n",
    "def greet(name):\n",
    "    print(f\"こんにちは、{name}さん！\")\n",
    "\n",
    "greet(\"太郎\")\n",
    "greet(\"花子\")\n"
   ]
  },
  {
   "cell_type": "code",
   "execution_count": 5,
   "id": "cf95983f",
   "metadata": {},
   "outputs": [
    {
     "name": "stdout",
     "output_type": "stream",
     "text": [
      "こんにちは、太郎さん！ 年齢は20歳ですね。\n",
      "こんにちは、花子さん！ 年齢は25歳ですね。\n"
     ]
    }
   ],
   "source": [
    "# 複数の引数\n",
    "def introduce(name, age):\n",
    "    print(f\"こんにちは、{name}さん！ 年齢は{age}歳ですね。\")\n",
    "\n",
    "introduce(\"太郎\", 20)\n",
    "introduce(\"花子\", 25)"
   ]
  },
  {
   "cell_type": "code",
   "execution_count": 6,
   "id": "c1c3c1e5",
   "metadata": {},
   "outputs": [
    {
     "name": "stdout",
     "output_type": "stream",
     "text": [
      "こんにちは、太郎さん！ 年齢は18歳ですね。\n",
      "こんにちは、花子さん！ 年齢は25歳ですね。\n"
     ]
    }
   ],
   "source": [
    "# デフォルト引数\n",
    "def introduce(name, age=18):\n",
    "    print(f\"こんにちは、{name}さん！ 年齢は{age}歳ですね。\")\n",
    "\"\"\"\n",
    "この関数では、引数 age にデフォルト値として 18 が設定されています。そのため、age を指定せずに関数を呼び出すと、18 が使われます。\n",
    "\"\"\"\n",
    "introduce(\"太郎\")\n",
    "introduce(\"花子\", 25)"
   ]
  },
  {
   "cell_type": "code",
   "execution_count": 8,
   "id": "0cd5f5e3",
   "metadata": {},
   "outputs": [
    {
     "name": "stdout",
     "output_type": "stream",
     "text": [
      "合計:6\n",
      "合計:50\n"
     ]
    }
   ],
   "source": [
    "# 可変長引数（*args と **kwargs）\n",
    "# *args\n",
    "\"\"\"\n",
    "複数の位置引数をタプルとして受け取ります。\n",
    "\"\"\"\n",
    "def add(*args):\n",
    "    result = sum(args)\n",
    "    print(f\"合計:{result}\")\n",
    "\n",
    "add(1, 2, 3)\n",
    "add(5, 10, 15, 20)"
   ]
  },
  {
   "cell_type": "code",
   "execution_count": 9,
   "id": "6a8c05dd",
   "metadata": {},
   "outputs": [
    {
     "name": "stdout",
     "output_type": "stream",
     "text": [
      "name : 太郎\n",
      "age : 20\n",
      "hobby : 読書\n"
     ]
    }
   ],
   "source": [
    "# **kwargs\n",
    "\"\"\"\n",
    "キーワード引数を辞書として受け取ります。\n",
    "\"\"\"\n",
    "def introduce(**kwargs):\n",
    "    for key, value in kwargs.items():\n",
    "        print(f\"{key} : {value}\")\n",
    "\n",
    "introduce(name=\"太郎\", age=20, hobby=\"読書\")"
   ]
  },
  {
   "cell_type": "code",
   "execution_count": 10,
   "id": "2136243a",
   "metadata": {},
   "outputs": [
    {
     "name": "stdout",
     "output_type": "stream",
     "text": [
      "8\n"
     ]
    }
   ],
   "source": [
    "# return の使い方\n",
    "def add(a, b):\n",
    "    result = a + b\n",
    "    return result\n",
    "\n",
    "total = add(3, 5)\n",
    "print(total)"
   ]
  },
  {
   "cell_type": "code",
   "execution_count": 12,
   "id": "0c77addb",
   "metadata": {},
   "outputs": [
    {
     "name": "stdout",
     "output_type": "stream",
     "text": [
      "足し算結果: 7\n",
      "掛け算結果: 12\n"
     ]
    }
   ],
   "source": [
    "# return の特徴\n",
    "\"\"\"\n",
    "複数の戻り値を返す\n",
    "\"\"\"\n",
    "\n",
    "# 複数の戻り値を返す関数の例：\n",
    "def calculate(a, b):\n",
    "    sum_result = a + b\n",
    "    product_result = a * b\n",
    "    return sum_result, product_result\n",
    "\n",
    "# 2つの戻り値を取得する関数を呼び出すサンプルコード\n",
    "result1, result2 = calculate(3, 4)\n",
    "print(\"足し算結果:\", result1)\n",
    "print(\"掛け算結果:\", result2)"
   ]
  },
  {
   "cell_type": "code",
   "execution_count": 13,
   "id": "4b476e24",
   "metadata": {},
   "outputs": [
    {
     "name": "stdout",
     "output_type": "stream",
     "text": [
      "Hello!\n",
      "None\n"
     ]
    }
   ],
   "source": [
    "# Noneを返す関数の例：\n",
    "def greet():\n",
    "    print(\"Hello!\")\n",
    "\n",
    "result = greet()\n",
    "print(result)"
   ]
  },
  {
   "cell_type": "code",
   "execution_count": 14,
   "id": "ab140d81",
   "metadata": {},
   "outputs": [
    {
     "name": "stdout",
     "output_type": "stream",
     "text": [
      "25\n"
     ]
    }
   ],
   "source": [
    "# 戻り値の活用\n",
    "\"\"\"\n",
    "戻り値は関数を組み合わせて使う際にも便利です。\n",
    "関数の戻り値を別の関数の引数として使ったり、条件分岐に利用したりできます。\n",
    "\"\"\"\n",
    "\n",
    "## 計算関数の結果を使って、別の計算を行う例：\n",
    "# 掛け算を行う関数\n",
    "def multiply(a, b):\n",
    "    return a * b\n",
    "\n",
    "# 2乗を行う関数\n",
    "def square(number):\n",
    "    return multiply(number, number)\n",
    "\n",
    "print(square(5))\n"
   ]
  },
  {
   "cell_type": "code",
   "execution_count": 15,
   "id": "de27cc03",
   "metadata": {},
   "outputs": [
    {
     "name": "stdout",
     "output_type": "stream",
     "text": [
      "4.0\n"
     ]
    }
   ],
   "source": [
    "# mathモジュールのインポート例：\n",
    "import math\n",
    "\n",
    "# mathモジュールの関数を使用\n",
    "print(math.sqrt(16))  # 出力: 4.0"
   ]
  },
  {
   "cell_type": "code",
   "execution_count": 16,
   "id": "59272e91",
   "metadata": {},
   "outputs": [
    {
     "name": "stdout",
     "output_type": "stream",
     "text": [
      "現在の日時: 2025-08-12 18:51:24.203493\n"
     ]
    }
   ],
   "source": [
    "# datetimeモジュールをdtという別名でインポートする例：\n",
    "import datetime as dt\n",
    "\n",
    "# 現在の日時を取得\n",
    "now = dt.datetime.now()\n",
    "print(\"現在の日時:\", now)"
   ]
  },
  {
   "cell_type": "code",
   "execution_count": 17,
   "id": "bc212ad6",
   "metadata": {},
   "outputs": [
    {
     "name": "stdout",
     "output_type": "stream",
     "text": [
      "4.0\n"
     ]
    }
   ],
   "source": [
    "# mathモジュールからsqrt関数だけをインポートする例：\n",
    "from math import sqrt\n",
    "\n",
    "# 直接関数を呼び出せる\n",
    "print(sqrt(16))  # 出力: 4.0"
   ]
  },
  {
   "cell_type": "code",
   "execution_count": 18,
   "id": "41f6c8f8",
   "metadata": {},
   "outputs": [
    {
     "name": "stdout",
     "output_type": "stream",
     "text": [
      "4.0\n",
      "3.141592653589793\n"
     ]
    }
   ],
   "source": [
    "# mathモジュールからsqrt関数とpi変数をインポートする例：\n",
    "from math import sqrt, pi\n",
    "\n",
    "# sqrtとpiを直接呼び出せる\n",
    "print(sqrt(16))  # 出力: 4.0\n",
    "print(pi)        # 出力: 3.141592653589793"
   ]
  },
  {
   "cell_type": "code",
   "execution_count": 19,
   "id": "f7be970b",
   "metadata": {},
   "outputs": [
    {
     "name": "stdout",
     "output_type": "stream",
     "text": [
      "4.0\n",
      "3.141592653589793\n"
     ]
    }
   ],
   "source": [
    "# mathモジュールからすべてをインポートする例：\n",
    "from math import *\n",
    "\n",
    "print(sqrt(16))  # 出力: 4.0\n",
    "print(pi)        # 出力: 3.141592653589793"
   ]
  }
 ],
 "metadata": {
  "kernelspec": {
   "display_name": ".venv",
   "language": "python",
   "name": "python3"
  },
  "language_info": {
   "codemirror_mode": {
    "name": "ipython",
    "version": 3
   },
   "file_extension": ".py",
   "mimetype": "text/x-python",
   "name": "python",
   "nbconvert_exporter": "python",
   "pygments_lexer": "ipython3",
   "version": "3.12.10"
  }
 },
 "nbformat": 4,
 "nbformat_minor": 5
}
