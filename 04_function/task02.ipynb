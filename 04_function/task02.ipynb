{
 "cells": [
  {
   "cell_type": "code",
   "execution_count": null,
   "id": "6bddc5c5",
   "metadata": {},
   "outputs": [
    {
     "name": "stdout",
     "output_type": "stream",
     "text": [
      "入力されたURL: https://yahoo.co.jp\n",
      "Content saved in: 20250812_195014.txt\n"
     ]
    }
   ],
   "source": [
    "# URLコンテンツの保存プログラム\n",
    "\"\"\"\n",
    "#仕様\n",
    "\n",
    "## 関数の仕様：\n",
    "URLを引数として受け取り、Webページのコンテンツの先頭500文字を日時のファイル名で保存し、ファイル名を戻り値として返す save_url_content() 関数を作成してください。\n",
    "関数の仕様は以下です。\n",
    "・指定したURLからデータを取得し、UTF-8形式でデコードしてから先頭500文字を取得します。\n",
    "・保存するファイル名は現在の日時（例: 20241030_155221.txt）とし、.txt 拡張子で保存してください。\n",
    "・データを取得したファイルへ保存するために、Pythonの標準ライブラリ datetime モジュールを使って日時をファイル名に含めてください。\n",
    "・作成されたファイル名を関数の戻り値として返してください。\n",
    "\n",
    "## 呼び出し側の仕様：\n",
    "以下のソースコードで関数を呼び出して確認してください。\n",
    "url = input(\"URLを入力してください: \")\n",
    "file_name = save_url_content(url)\n",
    "print(f\"Content saved in: {file_name}\")\n",
    "\"\"\"\n",
    "import urllib.request\n",
    "import datetime\n",
    "\n",
    "def save_url_content(url):\n",
    "    \"\"\"\n",
    "    URLを受け取り、Webページのコンテンツの先頭500文字を\n",
    "    日時のファイル名で保存し、ファイル名を返す関数。\n",
    "    \"\"\"\n",
    "    try:\n",
    "        # URLを開いてレスポンスを取得\n",
    "        with urllib.request.urlopen(url) as response:\n",
    "            # コンテンツを読み込み、UTF-8でデコード\n",
    "            content = response.read().decode(\"utf-8\")\n",
    "            # 先頭500文字をスライス\n",
    "            content_to_save = content[:500]\n",
    "\n",
    "        # 現在の日時からファイル名を生成 (例: 20241030_155221.txt)\n",
    "        now = datetime.datetime.now()\n",
    "        filename = now.strftime(\"%Y%m%d_%H%M%S\") + \".txt\"\n",
    "\n",
    "        # ファイルに書き込み\n",
    "        with open(filename, \"w\", encoding=\"utf-8\") as file:\n",
    "            file.write(content_to_save)\n",
    "\n",
    "        # 作成したファイル名を返す\n",
    "        return filename\n",
    "    \n",
    "    except Exception as e:\n",
    "        # URLの取得やファイル書き込みでエラーが発生した場合\n",
    "        print(f\"エラーが発生しました: {e}\")\n",
    "        return None\n",
    "\n",
    "# --- 呼び出し側の仕様 ---\n",
    "url = input(\"URLを入力してください: \")\n",
    "print(f\"入力されたURL: {url}\")\n",
    "file_name = save_url_content(url)\n",
    "\n",
    "# 関数がファイル名を正常に返した場合のみメッセージを表示\n",
    "if file_name:\n",
    "    print(f\"Content saved in: {file_name}\")\n"
   ]
  }
 ],
 "metadata": {
  "kernelspec": {
   "display_name": ".venv",
   "language": "python",
   "name": "python3"
  },
  "language_info": {
   "codemirror_mode": {
    "name": "ipython",
    "version": 3
   },
   "file_extension": ".py",
   "mimetype": "text/x-python",
   "name": "python",
   "nbconvert_exporter": "python",
   "pygments_lexer": "ipython3",
   "version": "3.12.10"
  }
 },
 "nbformat": 4,
 "nbformat_minor": 5
}
