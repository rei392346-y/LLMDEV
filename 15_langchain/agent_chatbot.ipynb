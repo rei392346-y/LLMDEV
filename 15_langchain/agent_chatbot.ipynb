{
 "cells": [
  {
   "cell_type": "code",
   "execution_count": null,
   "id": "b40a7539",
   "metadata": {},
   "outputs": [],
   "source": [
    "## Chapter 5.1 LangGraph\n",
    "\"\"\"\n",
    "■LangGraphの構成要素\n",
    "LangGraphの構成要素は以下です。\n",
    "・ステートグラフ（State Graph）：グラフとステートが入る入れ物です。\n",
    "・グラフ（Graph）：処理の流れです。\n",
    "    ・ノード（Node）：グラフ内の各処理ステップ（コンポーネント）を指します。\n",
    "    ・エッジ（Edge）：ノード間の接続です。\n",
    "・ステート（State）：ノード間で受け渡すデータです。\n",
    "\n",
    "■LangGraphの特徴\n",
    "LangGraphには、以下のような特徴があります。\n",
    "・制御構造のサポート：チェーンのように一方向へ進む処理に加え、ループや条件分岐を含むフローを作成可能です。\n",
    "・状態を持つ：ノード間で共有される状態（ステート）を持ちます。各ノードがステートを参照・更新することで、ステートフルなアプリを実現できます。\n",
    "・人間の介入：フローの途中で人間が介入し、ノードの次のアクションを制御できます。\n",
    "\"\"\"\n",
    "\n",
    "# Chapter 5.3 準備\n",
    "# 必要なモジュールをインポート\n",
    "import os\n",
    "from dotenv import load_dotenv\n",
    "from langchain_openai import ChatOpenAI\n",
    "\n",
    "# 環境変数の読み込み\n",
    "load_dotenv(\"../.env\")\n",
    "os.environ['OPENAI_API_KEY'] = os.environ['API_KEY']\n",
    "\n",
    "# モデル名\n",
    "MODEL_NAME = \"gpt-4o-mini\""
   ]
  },
  {
   "cell_type": "code",
   "execution_count": 5,
   "id": "874375b5",
   "metadata": {},
   "outputs": [],
   "source": [
    "# Chapter 5.4 ステートグラフの作成\n",
    "\"\"\"状態を保持する「ステート」を定義して、ステートとグラフを入れる「ステートグラフ」を作成します。\"\"\"\n",
    "from typing import Annotated\n",
    "from typing_extensions import TypedDict\n",
    "from langgraph.graph import StateGraph\n",
    "from langgraph.graph.message import add_messages\n",
    "\n",
    "# ステートの定義\n",
    "\"\"\"\n",
    "・ステートは、TypedDict を継承したクラスとして定義します。\n",
    "・属性には、ノード間で共有するデータを定義します。ここでは messages というリストを属性として定義しています。\n",
    "・Annotated で、ノードが属性を更新する方法を指定できます。デフォルトは上書きですが、今回は add_messages 関数を指定しています。\n",
    "　この関数は「リストに、ノードの実行結果を要素として追加する」処理を行います。\"\"\"\n",
    "class State(TypedDict):\n",
    "    # データを保存する属性\n",
    "    messages: Annotated[list, add_messages]\n",
    "\n",
    "# ステートグラフの作成\n",
    "\"\"\"StateGraph(State) で、ステートを持つステートグラフを作成します。この入れ物にグラフを作成していきます。\"\"\"\n",
    "graph_builder = StateGraph(State)"
   ]
  },
  {
   "cell_type": "code",
   "execution_count": 6,
   "id": "4d644e17",
   "metadata": {},
   "outputs": [],
   "source": [
    "# Chapter 5.5 グラフの作成\n",
    "\"\"\"チャットボットノード1つだけを持つグラフを作成します。\"\"\"\n",
    "\n",
    "# 言語モデルの定義\n",
    "llm = ChatOpenAI(model_name=MODEL_NAME)\n",
    "\n",
    "# チャットボットノードの作成\n",
    "\"\"\"\n",
    "・ノードは状態を受け取り、状態を更新する値を返します。\n",
    "    ・引数：State を受け取ります。State の messages 属性にはユーザーからの質問（HumanMessage 型）が格納されています。\n",
    "    ・戻り値：言語モデルからの回答（AIMessage型）を返します。\n",
    "・ノードの実行結果は、State の add_messages 関数で処理されます。\n",
    "  結果は [HumanMessage, AIMessage] のリストとなります。\n",
    "  今回はノードが1つだけですが、後続のノードがある場合には、この「質問と答え」のリストをもとに、続きの処理を行うことになります。\n",
    "\"\"\"\n",
    "def chatbot(state: State):\n",
    "    return {\"messages\": [llm.invoke(state[\"messages\"])]}\n",
    "\n",
    "# グラフにチャットボットノードを追加\n",
    "\"\"\"グラフにチャットボットノードを追加します。この段階では、ノードが何にも接続されず、単独で存在している状態となります。\"\"\"\n",
    "graph_builder.add_node(\"chatbot\", chatbot)\n",
    "\n",
    "\"\"\"開始ノードと終了ノードを指定することで、ノードがグラフに接続された状態となります。\"\"\"\n",
    "# 開始ノードの指定\n",
    "graph_builder.set_entry_point(\"chatbot\")\n",
    "# 終了ノードの指定\n",
    "graph_builder.set_finish_point(\"chatbot\")\n",
    "\n",
    "# 実行可能なステートグラフの作成\n",
    "\"\"\"最後に、compile() メソッドで実行可能なステートグラフを作成します。\"\"\"\n",
    "graph = graph_builder.compile()"
   ]
  },
  {
   "cell_type": "code",
   "execution_count": 7,
   "id": "df13375c",
   "metadata": {},
   "outputs": [
    {
     "data": {
      "image/png": "[encoded data removed]",
      "text/plain": [
       "<IPython.core.display.Image object>"
      ]
     },
     "metadata": {},
     "output_type": "display_data"
    }
   ],
   "source": [
    "# ステートグラフの可視化\n",
    "\"\"\"LangChainには、ステートグラフを可視化する機能が用意されています。\"\"\"\n",
    "\n",
    "# グラフの可視化\n",
    "from IPython.display import Image, display\n",
    "\n",
    "display(Image(graph.get_graph().draw_mermaid_png()))"
   ]
  },
  {
   "cell_type": "code",
   "execution_count": 8,
   "id": "15b7fce1",
   "metadata": {},
   "outputs": [
    {
     "name": "stdout",
     "output_type": "stream",
     "text": [
      "{'messages': [HumanMessage(content='光の三原色は？', additional_kwargs={}, response_metadata={}, id='8fa99f73-5350-4520-a99b-5947e5d1d44f'), AIMessage(content='光の三原色は、赤（Red）、緑（Green）、青（Blue）の3色です。これらの色を組み合わせることで、さまざまな色を表現することができます。この原理は、ディスプレイやテレビなどの光を使った技術に広く利用されています。', additional_kwargs={'refusal': None}, response_metadata={'token_usage': {'completion_tokens': 73, 'prompt_tokens': 14, 'total_tokens': 87, 'completion_tokens_details': {'accepted_prediction_tokens': 0, 'audio_tokens': 0, 'reasoning_tokens': 0, 'rejected_prediction_tokens': 0}, 'prompt_tokens_details': {'audio_tokens': 0, 'cached_tokens': 0}}, 'model_name': 'gpt-4o-mini-2024-07-18', 'system_fingerprint': 'fp_560af6e559', 'finish_reason': 'stop', 'logprobs': None}, id='run-154cb20b-dbf1-4226-a760-9230f05ad144-0', usage_metadata={'input_tokens': 14, 'output_tokens': 73, 'total_tokens': 87, 'input_token_details': {'audio': 0, 'cache_read': 0}, 'output_token_details': {'audio': 0, 'reasoning': 0}})]}\n"
     ]
    }
   ],
   "source": [
    "# Chapter 5.6 動作確認\n",
    "\"\"\"グラフを実行して動作確認を行いましょう。\"\"\"\n",
    "\n",
    "# グラフの実行\n",
    "response = graph.invoke({\"messages\": [(\"user\", \"光の三原色は？\")]})\n",
    "\n",
    "# 結果の表示\n",
    "print(response)"
   ]
  },
  {
   "cell_type": "code",
   "execution_count": 9,
   "id": "e6a11552",
   "metadata": {},
   "outputs": [
    {
     "name": "stdout",
     "output_type": "stream",
     "text": [
      "光の三原色は、赤（Red）、緑（Green）、青（Blue）の3色です。これらの色を組み合わせることで、さまざまな色を表現することができます。この原理は、ディスプレイやテレビなどの光を使った技術に広く利用されています。\n"
     ]
    }
   ],
   "source": [
    "# 言語モデルからの回答のみを表示\n",
    "\"\"\"言語モデルからの回答のみを表示するには、messages リストの末尾の1要素を -1 で取り出します。\"\"\"\n",
    "\n",
    "# 言語モデルからの回答のみを表示\n",
    "print(response[\"messages\"][-1].content)"
   ]
  },
  {
   "cell_type": "code",
   "execution_count": 10,
   "id": "7d4210ce",
   "metadata": {},
   "outputs": [
    {
     "name": "stdout",
     "output_type": "stream",
     "text": [
      "質問: aで始まる英単語を5つ教えて\n",
      "回答: もちろんです！以下は「a」で始まる英単語の例です：\n",
      "\n",
      "1. Apple（リンゴ）\n",
      "2. Adventure（冒険）\n",
      "3. Amazing（素晴らしい）\n",
      "4. Artist（アーティスト）\n",
      "5. Animal（動物）\n",
      "\n",
      "他にも知りたい単語があれば教えてください！\n",
      "質問: 3つ目の英単語はなんですか？\n",
      "回答: 「3つ目の英単語」というのは特定の文脈やリストがないとわかりませんが、一般的に「3つ目」という表現は、何かを順番に数えるときに使います。もし特定の単語リストやテーマがある場合、それを教えていただければ、その文脈に合わせた英単語をお答えできます。例えば、動物の名前や食べ物の名前など、具体的なテーマを教えていただければ、それに基づいてお答えします。\n",
      "ありがとうございました!\n"
     ]
    }
   ],
   "source": [
    "# Chapter 5.7 チャットボットシステムの作成\n",
    "\"\"\"作成したステートグラフを使って、ユーザーからの質問を受け取って回答を行う、チャットボットシステムを作成しましょう。\n",
    "あわせて、結果をストリーミングで得る方法についても確認します。\"\"\"\n",
    "\n",
    "# グラフの実行と結果の表示\n",
    "## グラフの実行と結果の表示を行う関数\n",
    "\"\"\"\n",
    "グラフの実行と結果の表示を行う関数を定義します。結果をストリーミングで得るには stream() メソッドでグラフを実行します。\n",
    "グラフの実行結果を for ループで受け取って、結果 value[\"messages\"][-1].content を表示します。\n",
    "\"\"\"\n",
    "def stream_graph_updates(user_input: str):\n",
    "    # 結果をストリーミングで得る\n",
    "    events = graph.stream({\"messages\": [(\"user\", user_input)]})\n",
    "    for event in events:\n",
    "        for value in event.values():\n",
    "            print(\"回答:\", value[\"messages\"][-1].content, flush=True)\n",
    "\n",
    "# チャットボットのループ\n",
    "\"\"\"\n",
    "■連続した対話は行えない\n",
    "チャットボットシステムでは、1回のループごとに、グラフが開始から終了まで実行されます。\n",
    "グラフは記憶を持たない（State のデータが破棄されてしまう）ため、連続した対話は行えません。確認してみましょう。\n",
    "\"\"\"\n",
    "while True:\n",
    "    \"\"\"input 関数で受け取った質問を stream_graph_updates 関数に渡しています。\"\"\"\n",
    "    user_input = input(\"質問:\")\n",
    "    if user_input.strip()==\"\":\n",
    "        \"\"\"空行が入力されたら終了\"\"\"\n",
    "        print(\"ありがとうございました!\")\n",
    "        break\n",
    "    print(\"質問:\", user_input, flush=True)\n",
    "    stream_graph_updates(user_input)"
   ]
  },
  {
   "cell_type": "code",
   "execution_count": null,
   "id": "bc53e236",
   "metadata": {},
   "outputs": [],
   "source": [
    "#vChapter 5.8 記憶を持たせる\n",
    "\"\"\"グラフに記憶を持たせるには、チェックポイントを用意して、各ノードの処理の後に状態を自動的に保存するようにします。\"\"\"\n",
    "\n",
    "from langgraph.checkpoint.memory import MemorySaver\n",
    "\n",
    "# チェックポインタの作成\n",
    "\"\"\"\n",
    "状態を保存するチェックポインタを作成します。MemorySaver は、メモリに状態を保存するチェックポインタです。\n",
    "実際のアプリでは SqliteSaver などを使用してデータベースやストレージに状態を保存すると良いでしょう。\n",
    "\"\"\"\n",
    "memory = MemorySaver()\n",
    "\n",
    "# 記憶を持つ実行可能なステートグラフの作成\n",
    "\"\"\"checkpointer にチェックポインタを指定することで、各ノードの処理の後に状態が自動的に保存されるようになります。\"\"\"\n",
    "memory_graph = graph_builder.compile(checkpointer=memory)"
   ]
  },
  {
   "cell_type": "code",
   "execution_count": 13,
   "id": "295972ce",
   "metadata": {},
   "outputs": [
    {
     "name": "stdout",
     "output_type": "stream",
     "text": [
      "aで始まる英単語を5つ教えて\n",
      "もちろんです！以下は「a」で始まる英単語を5つ挙げます。\n",
      "\n",
      "1. apple（リンゴ）\n",
      "2. animal（動物）\n",
      "3. amazing（素晴らしい）\n",
      "4. adventure（冒険）\n",
      "5. artist（アーティスト）\n",
      "\n",
      "他にも知りたい単語があれば教えてください！\n",
      "4つめの単語はなんですか？\n",
      "4つ目の単語は「adventure（冒険）」です。何か他に知りたいことがあれば、お気軽に聞いてください！\n",
      "ありがとうございました!\n"
     ]
    }
   ],
   "source": [
    "# 動作確認\n",
    "\"\"\"チャットボットシステムのコードを作成して、動作確認を行いましょう。\"\"\"\n",
    "\n",
    "# グラフの実行と結果の表示\n",
    "def stream_graph_updates(user_input: str):\n",
    "    events = memory_graph.stream(\n",
    "        {\"messages\": [(\"user\", user_input)]},\n",
    "        # チェックポイントを使用する際は、データを識別する任意のキーを指定する必要があります。{\"configurable\": {\"thread_id\": \"1\"}} でキーを指定しています。\n",
    "        {\"configurable\": {\"thread_id\": \"1\"}},\n",
    "        stream_mode=\"values\")\n",
    "    # 結果をストリーミングで得る\n",
    "    for event in events:\n",
    "        print(event[\"messages\"][-1].content, flush=True)\n",
    "\n",
    "# チャットボットのループ\n",
    "while True:\n",
    "    user_input = input(\"質問:\")\n",
    "    if user_input.strip()==\"\":\n",
    "        print(\"ありがとうございました!\")\n",
    "        break\n",
    "    stream_graph_updates(user_input)\n"
   ]
  }
 ],
 "metadata": {
  "kernelspec": {
   "display_name": ".venv",
   "language": "python",
   "name": "python3"
  },
  "language_info": {
   "codemirror_mode": {
    "name": "ipython",
    "version": 3
   },
   "file_extension": ".py",
   "mimetype": "text/x-python",
   "name": "python",
   "nbconvert_exporter": "python",
   "pygments_lexer": "ipython3",
   "version": "3.12.10"
  }
 },
 "nbformat": 4,
 "nbformat_minor": 5
}
