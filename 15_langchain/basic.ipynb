{
 "cells": [
  {
   "cell_type": "code",
   "execution_count": 1,
   "id": "79998b49",
   "metadata": {},
   "outputs": [],
   "source": [
    "# 必要なモジュールをインポート\n",
    "import os\n",
    "from dotenv import load_dotenv\n",
    "from langchain_openai import ChatOpenAI\n",
    "from langchain_core.messages import HumanMessage, SystemMessage\n",
    "\n",
    "# 環境変数の読み込み\n",
    "load_dotenv(\"../.env\")\n",
    "os.environ['OPENAI_API_KEY'] = os.environ['API_KEY']\n",
    "\n",
    "# モデル名\n",
    "MODEL_NAME = \"gpt-4o-mini\""
   ]
  },
  {
   "cell_type": "code",
   "execution_count": 2,
   "id": "d3b933f7",
   "metadata": {},
   "outputs": [
    {
     "name": "stdout",
     "output_type": "stream",
     "text": [
      "言語モデルを効果的に使用するためのポイントはいくつかあります。以下にいくつか挙げます。\n",
      "\n",
      "1. **明確な指示を与える**: モデルに対して具体的で明確な質問や指示を与えることで、より適切な回答を得やすくなります。\n",
      "\n",
      "2. **コンテキストを提供する**: モデルがより正確な回答を生成できるように、関連する背景情報やコンテキストを提供することが重要です。\n",
      "\n",
      "3. **反復的な対話を活用する**: モデルとの対話を通じて、徐々に情報を深めたり、具体化したりすることで、より良い結果を得ることができます。\n",
      "\n",
      "4. **モデルの限界を理解する**: 言語モデルは知識が2023年までのものであり、最新の情報や特定の専門知識については正確でない場合があります。そのため、得られた情報を鵜呑みにせず、必要に応じて外部の情報源を確認することが重要です。\n",
      "\n",
      "5. **多様な視点を考慮する**: モデルが提供する情報や意見は一つの視点に過ぎないため、他の情報源と照らし合わせたり、異なる意見を探求することが有益です。\n",
      "\n",
      "6. **倫理的な考慮**: モデルを使用する際には、倫理的な問題やバイアスについても考慮し、責任を持って利用することが求められます。\n",
      "\n",
      "7. **フィードバックを活用する**: モデルの応答に対してフィードバックを行うことで、次回の対話がより良いものになる場合があります。\n",
      "\n",
      "これらのポイントを考慮することで、言語モデルをより効果的に活用できるでしょう。\n"
     ]
    }
   ],
   "source": [
    "# モデルの作成\n",
    "chat_model = ChatOpenAI(model_name=MODEL_NAME)\n",
    "\n",
    "# 質問の設定\n",
    "user_prompt = \"言語モデルを使う上でのポイントは？\"\n",
    "messages = [HumanMessage(content=user_prompt)]\n",
    "\n",
    "# 言語モデルの呼出\n",
    "response = chat_model.invoke(messages)\n",
    "\n",
    "# 結果を表示\n",
    "print(response.content)"
   ]
  }
 ],
 "metadata": {
  "kernelspec": {
   "display_name": ".venv",
   "language": "python",
   "name": "python3"
  },
  "language_info": {
   "codemirror_mode": {
    "name": "ipython",
    "version": 3
   },
   "file_extension": ".py",
   "mimetype": "text/x-python",
   "name": "python",
   "nbconvert_exporter": "python",
   "pygments_lexer": "ipython3",
   "version": "3.12.10"
  }
 },
 "nbformat": 4,
 "nbformat_minor": 5
}
