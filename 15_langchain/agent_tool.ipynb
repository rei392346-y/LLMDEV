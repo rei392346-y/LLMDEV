{
 "cells": [
  {
   "cell_type": "code",
   "execution_count": 34,
   "id": "d41dfcd6",
   "metadata": {},
   "outputs": [],
   "source": [
    "# Chapter 6 ツール呼び出しエージェントの構築\n",
    "\"\"\"LangGraphとTavilyを使用して、ツールの呼び出しを動的に判断するエージェントを作成しましょう。\"\"\"\n",
    "\n",
    "# 必要なモジュールをインポート\n",
    "import os\n",
    "from dotenv import load_dotenv\n",
    "from langchain_openai import ChatOpenAI\n",
    "\n",
    "# 環境変数の読み込み\n",
    "load_dotenv(\"../.env\")\n",
    "os.environ['OPENAI_API_KEY'] = os.environ['API_KEY']\n",
    "\n",
    "# モデル名\n",
    "MODEL_NAME = \"gpt-4o-mini\""
   ]
  },
  {
   "cell_type": "code",
   "execution_count": 35,
   "id": "9eec3fe8",
   "metadata": {},
   "outputs": [],
   "source": [
    "# Chapter 6.2 検索ツールの定義\n",
    "\"\"\"Tavilyを使用してWeb検索を行うツールを定義します。LangChainにはTavily用のツール TavilySearchResults が用意されています。\"\"\"\n",
    "\n",
    "# 検索ツールの定義\n",
    "from langchain_community.tools.tavily_search import TavilySearchResults\n",
    "\n",
    "tool = TavilySearchResults(max_results=2)\n",
    "tools = [tool]"
   ]
  },
  {
   "cell_type": "code",
   "execution_count": 36,
   "id": "f1ec1f84",
   "metadata": {},
   "outputs": [
    {
     "data": {
      "text/plain": [
       "[{'url': 'https://medium.com/pythoneers/building-ai-agent-systems-with-langgraph-9d85537a6326',\n",
       "  'content': 'LangGraph is a library built on top of LangChain, designed to create cyclic graphs for LLM-based AI agents.\\n It enables cyclic graph topologies for workflows, allowing more flexible and nuanced agent behaviors than linear models.\\n Utilizes key elements:  \\n   — Nodes: Represent functions or LangChain runnable items.  \\n   — Edges: Define execution and data flow.  \\n   — Stateful graphs: Manage persistent data across execution cycles. [...] State maintains and updates the context or memory as the process advances and enabling each step to access relevant information from earlier steps for dynamic decision-making.\\n Nodes represent individual computation steps or tasks, performing specific functions like data processing, decision-making or system interactions. [...] The diagram illustrates how LangGraph facilitates a dynamic, cyclic workflow for AI agents. The process begins with an initial state, which contains input data or context (in this case, a message from the customer asking about the advantages of solar panels). This state is passed to an agent node, which interacts with the customer to gather information, such as obtaining their electricity bill. After this interaction, the state is updated with the gathered information and passed to an edge,'},\n",
       " {'url': 'https://www.issoh.co.jp/tech/details/4059/',\n",
       "  'content': 'このアーキテクチャの特徴により、複数のエージェントが協調して複雑なデータ処理を行う際のデータの流れが明確化され、状態の変遷が追跡可能になります。\\n\\n LangGraphは、これをLLMアプリケーションに応用することで、状態管理が必要な場面で非常に効果的に機能します。\\n\\n また、グラフ理論に基づくアーキテクチャを採用することで、LangGraphは従来の一方向的なデータフローを超え、複雑な循環的な処理を可能にします。\\n\\n 例えば、データが一度ノードを通過した後に、再度異なるノードへ戻るといったサイクル的な処理が、グラフ構造の柔軟な設計によって実現されます。\\n\\n このような特性は、単純なフローでは対応できない複雑なアプリケーションの処理フローを構築する上で大いに役立ちます。\\n\\n### 状態管理におけるノードとエッジの役割\\n\\nLangGraphにおいて、ノード（Node）とエッジ（Edge）は状態管理の根幹を担います。\\n\\n 各ノードは、データが特定の処理を経るステップを表しており、その処理結果は状態として記録されます。 [...] Nodeがデータ処理を担当し、Edgeがそのデータを次のNodeへと引き渡す役割を果たします。\\n\\n また、Stateは各Node間でデータの状態を追跡し、情報の一貫性と整合性を維持します。\\n\\n このようなコンポーネントの組み合わせによって、LangGraphは動的で柔軟なデータ処理が可能となり、複雑なデータフローの設計と管理が容易になります。\\n\\n 特に、LLMアプリケーションでの複数エージェント間の連携やサイクル処理が求められる場合、この組み合わせが効果的に機能します。\\n\\n 開発者は、各コンポーネントを適切に配置し、最適なフローを設計することで、アプリケーションの処理能力を最大限に引き出すことが可能です。\\n\\nLangGraphにおけるグラフ構造と状態管理の仕組み：ノードとエッジを活用したアプローチ\\n\\nLangGraphでは、グラフ構造がデータフローの基盤を構成し、ノード（Node）とエッジ（Edge）の組み合わせによって状態管理が行われます。\\n\\n このグラフ構造を利用することで、複数の計算ステップやエージェントが、データを循環的に扱いながら協調動作を行います。 [...] 特に、LLMを用いた複雑なアプリケーションにおいて、ノードとエッジのアプローチは非常に有用です。\\n\\n ノードはデータの処理を行う個々のステップであり、エッジはそのノード間の接続を担うことで、データがどのように流れるかを定義します。\\n\\n LangGraphのグラフ構造による状態管理は、複数のエージェントや計算ステップがデータの流れを共有しながら動作するため、状態が動的に変化するアプリケーションに適しています。\\n\\n また、ノードとエッジを活用することで、状態の遷移を視覚的に理解しやすくなり、複雑なデータフローの管理が容易になります。\\n\\n このグラフ構造と状態管理の仕組みを理解することで、LangGraphがいかにしてLLMアプリケーションの柔軟な設計を可能にしているかが明確になります。\\n\\n### グラフ理論に基づくアーキテクチャの特徴\\n\\nLangGraphのアーキテクチャはグラフ理論に基づいており、データがノードとエッジによって視覚的かつ構造的に管理されます。\\n\\n グラフ理論の応用によって、各ノードは処理ステップを表し、エッジはノード間の接続として機能します。'}]"
      ]
     },
     "execution_count": 36,
     "metadata": {},
     "output_type": "execute_result"
    }
   ],
   "source": [
    "# 動作確認\n",
    "\"\"\"Web検索ツールの動作確認を行いましょう。\"\"\"\n",
    "tool.invoke(\"Langgraphのノードとは？\")"
   ]
  },
  {
   "cell_type": "code",
   "execution_count": 37,
   "id": "7115050c",
   "metadata": {},
   "outputs": [
    {
     "data": {
      "text/plain": [
       "<langgraph.graph.state.StateGraph at 0x1358d5b20>"
      ]
     },
     "execution_count": 37,
     "metadata": {},
     "output_type": "execute_result"
    }
   ],
   "source": [
    "# Chapter 6.3\n",
    "\"\"\"\n",
    "ステートグラフの作成とチャットボットノードの追加\n",
    "LangGraphの基本で行ったように、ステートグラフの作成とチャットボットノードの追加を行いましょう。\n",
    "\"\"\"\n",
    "from typing import Annotated\n",
    "from typing_extensions import TypedDict\n",
    "from langgraph.graph import StateGraph\n",
    "from langgraph.graph.message import add_messages\n",
    "\n",
    "# Stateクラスの定義\n",
    "class State(TypedDict):\n",
    "    messages: Annotated[list, add_messages]\n",
    "\n",
    "# グラフのインスタンスを作成\n",
    "graph_builder = StateGraph(State)\n",
    "\n",
    "# 言語モデルの定義\n",
    "llm = ChatOpenAI(model_name=MODEL_NAME)\n",
    "\n",
    "# 変更点：ツール定義の紐づけ\n",
    "llm_with_tools = llm.bind_tools(tools)\n",
    "\n",
    "# チャットボットノードの作成\n",
    "def chatbot(state: State):\n",
    "    return {\"messages\": [llm_with_tools.invoke(state[\"messages\"])]}\n",
    "\n",
    "# グラフにチャットボットノードを追加\n",
    "graph_builder.add_node(\"chatbot\", chatbot)"
   ]
  },
  {
   "cell_type": "code",
   "execution_count": 38,
   "id": "f4b4d74b",
   "metadata": {},
   "outputs": [],
   "source": [
    "# Chapter 6.4 ツールノードの追加\n",
    "\"\"\"グラフにツールノードを追加して、記憶を持つ実行可能なステートグラフを作成します。\"\"\"\n",
    "from langgraph.prebuilt import ToolNode, tools_condition\n",
    "from langgraph.checkpoint.memory import MemorySaver\n",
    "\n",
    "# ツールノードの作成\n",
    "tool_node = ToolNode(tools)\n",
    "\n",
    "# グラフにツールノードを追加\n",
    "graph_builder.add_node(\"tools\", tool_node)\n",
    "\n",
    "# 条件付エッジの作成\n",
    "\"\"\"\n",
    "add_conditional_edges で条件付エッジを作成します。\n",
    "・“chatbot”：第一引数には、遷移元のノードを指定します。\n",
    "・tools_condition：第二引数には、ルーティングを行う関数を指定します。\n",
    "  tools_condition はLangChainで用意されている関数で、”chatbot” ノードからの出力に \"tool_calls\" があるときは \"tools\" を返し、それ以外の時は \"__end__\" を返します。\n",
    "  これにより、ツール呼出と判断したらツールノードを呼ぶことが可能になります。\n",
    "\"\"\"\n",
    "graph_builder.add_conditional_edges(\n",
    "    \"chatbot\",\n",
    "    tools_condition, # ツール呼出と判断したらツールノードを呼ぶ\n",
    ")\n",
    "\n",
    "# ツールが呼び出されるたびに、チャットボットに戻って次のステップを決定\n",
    "# ツールからチャットボットへの戻りエッジを作成\n",
    "graph_builder.add_edge(\"tools\", \"chatbot\")\n",
    "\n",
    "# 開始ノードの指定\n",
    "graph_builder.set_entry_point(\"chatbot\")\n",
    "\n",
    "# 記憶を持つ実行可能なステートグラフの作成\n",
    "memory = MemorySaver()\n",
    "graph = graph_builder.compile(checkpointer=memory)"
   ]
  },
  {
   "cell_type": "code",
   "execution_count": 39,
   "id": "6041cb25",
   "metadata": {},
   "outputs": [
    {
     "data": {
      "image/png": "[encoded data removed]",
      "text/plain": [
       "<IPython.core.display.Image object>"
      ]
     },
     "metadata": {},
     "output_type": "display_data"
    }
   ],
   "source": [
    "# ステートグラフの可視化\n",
    "\"\"\"作成したステートグラフを可視化して確認しましょう。\"\"\"\n",
    "# グラフの可視化\n",
    "from IPython.display import Image, display\n",
    "\n",
    "display(Image(graph.get_graph().draw_mermaid_png()))"
   ]
  },
  {
   "cell_type": "code",
   "execution_count": 40,
   "id": "caad8991",
   "metadata": {},
   "outputs": [
    {
     "name": "stdout",
     "output_type": "stream",
     "text": [
      "こんにてゃ\n",
      "こんにちは！今日はどんなことをお話ししましょうか？\n",
      "台湾観光について検索結果を教えて\n",
      "\n",
      "[{\"url\": \"https://www.knt.co.jp/travelguide/kaigai/027/\", \"content\": \"国内\\n\\n海外\\n\\n台湾・台北観光のおすすめスポット19選！\\n\\n台湾・台北のツアーを日付・条件から探す\\n\\n台湾は日本から直行便で約4時間ほどで行ける人気の観光地。週末や連休を利用して気軽に行ける台湾は、グルメや観光、写真映えスポット、ショッピングなど幅広く楽しむことができます。国立故宮博物院や中正紀念堂など台湾の歴史あふれるエリア、若者に人気のショッピングエリアをはじめ、台北から少し足を伸ばせば、ノスタルジックな雰囲気と海を一望できる風光明媚な街並みが広がる九份があります。今回は台北を訪れたら絶対にチェックしておきたいスポットをご紹介します。\\n\\n目次\\n\\n【台北定番の観光スポット】\\n\\n高さ約509ｍを誇る台湾の街のシンボルタワー「台北101」\\n\\n世界四大博物館の1つ「国立故宮博物院」\\n\\n台北市で最大規模を誇る「士林観光夜市」\\n\\n美食がそろう夜市「饒河街観光夜市」\\n\\n台湾の歴史を象徴する場所「国立中正紀念堂」\\n\\nレトロな街並みが残る「迪化街」\\n\\n台湾のベニスと呼ばれる港町「淡水」\\n\\n商売繁盛の神様をまつる伝統的な廟「行天宮」\\n\\n英霊をまつる神聖な場所「忠烈祠」\\n\\n名店がずらりと並ぶ「永康街」\"}, {\"url\": \"https://www.hankyu-travel.com/guide/taiwan/\", \"content\": \"Image 10: 彩虹眷村彩虹眷村\\n\\n絶景にグルメ、ショッピング、温泉まで楽しめる台湾。台北のシンボルタワー、台北101でショッピングや眺望を楽しんだり、夜は寧夏夜市でB級グルメ三昧。足をのばして、九份の街歩きもおすすめです。そんな台湾の基本情報から観光情報まで詳しく紹介します。\\n\\n   観光マップ\\n   おすすめ 観光スポット\\n   グルメ\\n   基本情報（ビザ・現地情報）\\n\\n台湾観光マップ\\n\\nMap\\n\\n   九份\\n   台北\\n   台中\\n   台南\\n   高雄\\n\\n台湾のおすすめ観光スポット総合ランキング\\n\\nRanking\\n\\n1 位Image 11: 九フン\\n### 九フン\\n\\n台北\\n『千と千尋の神隠し』の舞台として脚光を浴びた山間部にある小さな町。赤提灯が並ぶ風景を求め、大勢の観光客が訪れます。\\n\\n2 位Image 12: 士林夜市\\n### 士林夜市\\n\\n台北\\n台北市最大規模の観光夜市です。台湾のローカルフードを提供する飲食屋台などさまざまな屋台が軒を連ねます。\\n\\n3 位Image 13: 日月潭\\n### 日月潭 [...] 台中\\n周囲を山々に囲まれた台湾最大の淡水湖。台湾3大観光地の一つとして人気で、四季折々の美しい景観が楽しめます。\\n\\n4 位Image 14: 台北101\\n### 台北101\\n\\n台北\\n地上101階建て、高さ508mの超高層ビル。毎年元旦0時にはカウントダウン花火を実施しています。\\n\\n5 位Image 15: 野柳\\n### 野柳\\n\\n新北\\n全長約1,700mの長さの岬。海食風化と地殻変動により、大自然の石彫芸術のような独特の景観を生み出しました。\\n\\n6 位Image 16: 龍虎塔\\n### 龍虎塔\\n\\n高雄\\n1976年に建てられた7階建の塔です。龍の口から入り、虎の口から出るルールがあり、福を得て、凶を避けられます。\\n\\n7 位Image 17: 太魯閣溪谷\\n### 太魯閣溪谷\\n\\n花蓮\\n太魯閣国立公園の中にある、台湾八景の一つとして知られる渓谷。高山、断崖、滝など豊かな自然を感じられます。\\n\\n台湾おすすめツアー\\n\\n台湾のおすすめ観光スポット\\n\\nSightseeing Spot\\n\\n#### テーマで絞り込む\\n\\n#### エリアで絞り込む\"}]\n",
      "台湾観光についての情報をいくつか見つけましたので、以下にまとめます。\n",
      "\n",
      "1. **台湾・台北観光のおすすめスポット19選**\n",
      "   - 台湾は日本から直行便で約4時間ほどで行ける人気の観光地で、グルメや観光、ショッピングなどを楽しむことができます。\n",
      "   - **主な観光スポット**:\n",
      "     - 台北101: 高さ約509mのシンボルタワー。\n",
      "     - 国立故宮博物院: 世界四大博物館の1つ。\n",
      "     - 士林観光夜市: 台北市最大規模の夜市。\n",
      "     - 九份: ノスタルジックな雰囲気が楽しめる町。\n",
      "   - 詳しい情報は[こちら](https://www.knt.co.jp/travelguide/kaigai/027/)から。\n",
      "\n",
      "2. **絶景にグルメ、ショッピング、温泉まで楽しめる台湾**\n",
      "   - 台北101でのショッピングや眺望、寧夏夜市でのB級グルメが楽しめます。\n",
      "   - 人気観光スポットランキング:\n",
      "     1. 九份: 『千と千尋の神隠し』の舞台。\n",
      "     2. 士林夜市: 台北市最大規模の観光夜市。\n",
      "     3. 日月潭: 台湾最大の淡水湖。\n",
      "     4. 台北101\n",
      "     5. 野柳: 自然の岩の彫刻が見られる岬。\n",
      "   - 詳細は[こちら](https://www.hankyu-travel.com/guide/taiwan/)から。\n",
      "\n",
      "台湾は観光スポットが豊富で、食事やショッピングも充実しています。訪問の計画を立てる際に参考にしてみてください！\n",
      "ありがとうございました!\n"
     ]
    }
   ],
   "source": [
    "# Chapter 6.5 動作確認\n",
    "\"\"\"グラフを実行して動作確認を行いましょう。LangGraphの基本で行ったように、結果をストリーミングで得るチャットボットシステムを作成します。\"\"\"\n",
    "# グラフの実行と結果の表示\n",
    "def stream_graph_updates(user_input: str):\n",
    "    events = graph.stream(\n",
    "        {\"messages\": [(\"user\", user_input)]},\n",
    "        {\"configurable\": {\"thread_id\": \"1\"}},\n",
    "        stream_mode=\"values\")\n",
    "    # 結果をストリーミングで得る\n",
    "    for event in events:\n",
    "        print(event[\"messages\"][-1].content, flush=True)\n",
    "\n",
    "# チャットボットのループ\n",
    "while True:\n",
    "    user_input = input(\"質問:\")\n",
    "    if user_input.strip()==\"\":\n",
    "        print(\"ありがとうございました!\")\n",
    "        break\n",
    "    stream_graph_updates(user_input)\n",
    "    print()  # 回答がすべて表示された後に改行します"
   ]
  }
 ],
 "metadata": {
  "kernelspec": {
   "display_name": ".venv",
   "language": "python",
   "name": "python3"
  },
  "language_info": {
   "codemirror_mode": {
    "name": "ipython",
    "version": 3
   },
   "file_extension": ".py",
   "mimetype": "text/x-python",
   "name": "python",
   "nbconvert_exporter": "python",
   "pygments_lexer": "ipython3",
   "version": "3.12.10"
  }
 },
 "nbformat": 4,
 "nbformat_minor": 5
}
